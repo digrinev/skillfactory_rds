{
 "metadata": {
  "language_info": {
   "codemirror_mode": {
    "name": "ipython",
    "version": 3
   },
   "file_extension": ".py",
   "mimetype": "text/x-python",
   "name": "python",
   "nbconvert_exporter": "python",
   "pygments_lexer": "ipython3",
   "version": "3.8.3-final"
  },
  "orig_nbformat": 2,
  "kernelspec": {
   "name": "Python 3.8.3 64-bit ('base': conda)",
   "display_name": "Python 3.8.3 64-bit ('base': conda)",
   "metadata": {
    "interpreter": {
     "hash": "584509f9502ec2be07e00c778a4e7c90646a32d32b56abab77c489d8ee1e5498"
    }
   }
  }
 },
 "nbformat": 4,
 "nbformat_minor": 2,
 "cells": [
  {
   "cell_type": "code",
   "execution_count": 1,
   "metadata": {},
   "outputs": [],
   "source": [
    "import numpy as np\n",
    "import pandas as pd\n",
    "import matplotlib.pyplot as plt\n",
    "import seaborn as sns\n",
    "from pandas_profiling import ProfileReport\n",
    "\n",
    "# Функция заполнения пропусков \n",
    "def data_education_fillna():\n",
    "    df = pd.read_csv('train.csv')\n",
    "\n",
    "    # Обработаем категориальные признаки\n",
    "    from sklearn.preprocessing import LabelEncoder, StandardScaler\n",
    "    encoder = LabelEncoder()\n",
    "    scaler = StandardScaler()\n",
    "\n",
    "    df.education = df.education.fillna('NAN')\n",
    "    #df.education = encoder.fit_transform(df.education)\n",
    "\n",
    "    df_train = df[df.education != 'NAN']\n",
    "    df_test = df[df.education == 'NAN']\n",
    "\n",
    "    df_train.education = encoder.fit_transform(df_train.education)\n",
    "\n",
    "    df_train = pd.get_dummies(df_train)\n",
    "    df_test = pd.get_dummies(df_test.drop('education', axis=1))\n",
    "\n",
    "    # Разбиваем данные для обучения модели\n",
    "    from sklearn.model_selection import train_test_split\n",
    "    from sklearn.utils import resample\n",
    "\n",
    "    # Обучаем модель\n",
    "    from sklearn.ensemble import RandomForestClassifier\n",
    "\n",
    "    y = df_train.education\n",
    "    X = df_train.drop('education', axis=1)\n",
    "\n",
    "    X_train, X_test, y_train, y_test = train_test_split(X, y, test_size=0.2, random_state=42)\n",
    "\n",
    "    # Обучаем модель\n",
    "    model = RandomForestClassifier(max_depth=20, n_estimators=500)\n",
    "\n",
    "    model.fit(X_train, y_train)\n",
    "    y_pred = model.predict(X_test)\n",
    "\n",
    "    # Заполним пропуски education при помощи RFC\n",
    "    missing_education = model.predict(df_test)\n",
    "    df_test['education'] = encoder.inverse_transform(missing_education)\n",
    "\n",
    "\n",
    "    return df_test\n",
    "\n",
    "\n",
    "# Функция обработки данных\n",
    "def prepare_data(fill_na='rfc', use_fe=False, binarize_categorical=True, read_from_file=False):\n",
    "    '''\n",
    "    fill_na parameter: \n",
    "        - rfc: fill with RandomForestClassifier\n",
    "        - mean: fill with mean value\n",
    "        - mode: fill with mode value\n",
    "        - drop: drop NAN values\n",
    "    '''\n",
    "    CSV_FILENAME = 'prepared_data.csv'\n",
    "\n",
    "    if read_from_file:\n",
    "        df = pd.read_csv(CSV_FILENAME)\n",
    "        X = df.drop('default', axis=1)\n",
    "        y = df.default\n",
    "\n",
    "        return X, y, df \n",
    "\n",
    "    # Загружаем датасет\n",
    "    df = pd.read_csv('train.csv')\n",
    "\n",
    "    # Распределим признаки по типам\n",
    "    num_features = ['age', 'decline_app_cnt', 'bki_request_cnt', 'income', 'client_id']\n",
    "    binary_features = ['sex', 'car', 'car_type', 'foreign_passport']\n",
    "    cat_features = ['education', 'home_address', 'work_address']\n",
    "    other_features = ['good_work']\n",
    "\n",
    "    # Заполним пропуски\n",
    "    if fill_na in ['rfc', 'mean', 'mode', 'drop']:\n",
    "        if fill_na == 'rfc':\n",
    "            df_filled = data_education_fillna()\n",
    "            df.education = df.education.fillna(df_filled.education)\n",
    "        elif fill_na == 'mean':\n",
    "            df.education = df.education.fillna(df.education.value_counts()\n",
    "                            [df.education.value_counts() == int(df.education.value_counts().median())].index[0])\n",
    "        elif fill_na == 'mode':\n",
    "            df.education = df.education.fillna(df.education.mode()[0])\n",
    "        elif fill_na == 'drop':\n",
    "            df = df.dropna(axis=0)\n",
    "    else:\n",
    "        raise Exception('fill_na parameter has to be: rfc, mean, mode or drop]')\n",
    "\n",
    "    # Логарифмируем числовые переменные\n",
    "    df[num_features] = df[num_features].apply(lambda x: np.log(x+1))\n",
    "\n",
    "    # Закодируем бинарные признаки\n",
    "    from sklearn.preprocessing import LabelEncoder\n",
    "\n",
    "    labelEncoder = LabelEncoder()\n",
    "\n",
    "    for feature in binary_features:\n",
    "        df[feature] = labelEncoder.fit_transform(df[feature])\n",
    "\n",
    "    # Закодируем образование\n",
    "    df.education = labelEncoder.fit_transform(df.education)\n",
    "\n",
    "    # Feature Engineering\n",
    "    if use_fe:\n",
    "        added_features =[]\n",
    "    else:\n",
    "        added_features = []\n",
    "\n",
    "    # Выполним OneHotEncoding категориальных признаков\n",
    "    from sklearn.preprocessing import OneHotEncoder, StandardScaler, RobustScaler\n",
    "\n",
    "    if binarize_categorical:\n",
    "        ohe = OneHotEncoder(sparse = False)\n",
    "        X_cat = ohe.fit_transform(df[cat_features].values)\n",
    "        # Получим новые названия категориальных признаков после OHE\n",
    "        cat_f = list(ohe.get_feature_names(cat_features))\n",
    "    else:\n",
    "        X_cat = df[cat_features].values\n",
    "        cat_f = cat_features\n",
    "\n",
    "    # Выполним нормирование числовых признаков\n",
    "    X_num = RobustScaler().fit_transform(df[num_features].values)\n",
    "\n",
    "    # Объединим все признаки\n",
    "    X = np.hstack([X_num, df[binary_features].values, X_cat, df[other_features].values, df[added_features].values])\n",
    "    y = df['default'].values\n",
    "\n",
    "    # Соберем датафрэйм\n",
    "    prepared_df = pd.DataFrame(np.hstack([X, y.reshape(-1, 1)]), columns=num_features+binary_features+cat_f\n",
    "                                                                +other_features+added_features+['default'])\n",
    "\n",
    "    # Сохраним данные в файл\n",
    "    prepared_df.to_csv(CSV_FILENAME, index=False)\n",
    "\n",
    "    return X, y, prepared_df"
   ]
  },
  {
   "cell_type": "code",
   "execution_count": 2,
   "metadata": {},
   "outputs": [],
   "source": [
    "df = pd.read_csv('train.csv')"
   ]
  },
  {
   "source": [
    "<table style=\"width: 80%; font-size: 16px; padding: 0.3em; border-collapse: collapse; margin: 0px auto; border: 1px solid #b3b3b3;\">\n",
    "<tbody>\n",
    "<tr>\n",
    "<td style=\"width: 34.3096%; border: 1px solid #b3b3b3; padding: 0.3em;\">client_id</td>\n",
    "<td style=\"width: 65.5509%; border: 1px solid #b3b3b3; padding: 0.3em;\">идентификатор клиента</td>\n",
    "</tr>\n",
    "<tr>\n",
    "<td style=\"width: 34.3096%; border: 1px solid #b3b3b3; padding: 0.3em;\">education</td>\n",
    "<td style=\"width: 65.5509%; border: 1px solid #b3b3b3; padding: 0.3em;\">уровень образования</td>\n",
    "</tr>\n",
    "<tr>\n",
    "<td style=\"width: 34.3096%; border: 1px solid #b3b3b3; padding: 0.3em;\">sex</td>\n",
    "<td style=\"width: 65.5509%; border: 1px solid #b3b3b3; padding: 0.3em;\">пол заёмщика</td>\n",
    "</tr>\n",
    "<tr>\n",
    "<td style=\"width: 34.3096%; border: 1px solid #b3b3b3; padding: 0.3em;\">age</td>\n",
    "<td style=\"width: 65.5509%; border: 1px solid #b3b3b3; padding: 0.3em;\">возраст заёмщика</td>\n",
    "</tr>\n",
    "<tr>\n",
    "<td style=\"width: 34.3096%; border: 1px solid #b3b3b3; padding: 0.3em;\">car</td>\n",
    "<td style=\"width: 65.5509%; border: 1px solid #b3b3b3; padding: 0.3em;\">флаг наличия автомобиля</td>\n",
    "</tr>\n",
    "<tr>\n",
    "<td style=\"width: 34.3096%; border: 1px solid #b3b3b3; padding: 0.3em;\">car_type</td>\n",
    "<td style=\"width: 65.5509%; border: 1px solid #b3b3b3; padding: 0.3em;\">флаг автомобиля-иномарки</td>\n",
    "</tr>\n",
    "<tr>\n",
    "<td style=\"width: 34.3096%; border: 1px solid #b3b3b3; padding: 0.3em;\">decline_app_cnt</td>\n",
    "<td style=\"width: 65.5509%; border: 1px solid #b3b3b3; padding: 0.3em;\">количество отказанных прошлых заявок</td>\n",
    "</tr>\n",
    "<tr>\n",
    "<td style=\"width: 34.3096%; border: 1px solid #b3b3b3; padding: 0.3em;\">good_work</td>\n",
    "<td style=\"width: 65.5509%; border: 1px solid #b3b3b3; padding: 0.3em;\">флаг наличия «хорошей» работы</td>\n",
    "</tr>\n",
    "<tr>\n",
    "<td style=\"width: 34.3096%; border: 1px solid #b3b3b3; padding: 0.3em;\">bki_request_cnt</td>\n",
    "<td style=\"width: 65.5509%; border: 1px solid #b3b3b3; padding: 0.3em;\">количество запросов в БКИ</td>\n",
    "</tr>\n",
    "<tr>\n",
    "<td style=\"width: 34.3096%; border: 1px solid #b3b3b3; padding: 0.3em;\">home_address</td>\n",
    "<td style=\"width: 65.5509%; border: 1px solid #b3b3b3; padding: 0.3em;\">категоризатор домашнего адреса</td>\n",
    "</tr>\n",
    "<tr>\n",
    "<td style=\"width: 34.3096%; border: 1px solid #b3b3b3; padding: 0.3em;\">work_address</td>\n",
    "<td style=\"width: 65.5509%; border: 1px solid #b3b3b3; padding: 0.3em;\">категоризатор рабочего адреса</td>\n",
    "</tr>\n",
    "<tr>\n",
    "<td style=\"width: 34.3096%; border: 1px solid #b3b3b3; padding: 0.3em;\">income</td>\n",
    "<td style=\"width: 65.5509%; border: 1px solid #b3b3b3; padding: 0.3em;\">доход заёмщика</td>\n",
    "</tr>\n",
    "<tr>\n",
    "<td style=\"width: 34.3096%; border: 1px solid #b3b3b3; padding: 0.3em;\">foreign_passport</td>\n",
    "<td style=\"width: 65.5509%; border: 1px solid #b3b3b3; padding: 0.3em;\">наличие загранпаспорта</td>\n",
    "</tr>\n",
    "<tr>\n",
    "<td style=\"width: 34.3096%; border: 1px solid #b3b3b3; padding: 0.3em;\">default</td>\n",
    "<td style=\"width: 65.5509%; border: 1px solid #b3b3b3; padding: 0.3em;\">наличие дефолта</td>\n",
    "</tr>\n",
    "</tbody>\n",
    "</table>"
   ],
   "cell_type": "markdown",
   "metadata": {}
  },
  {
   "cell_type": "code",
   "execution_count": null,
   "metadata": {},
   "outputs": [],
   "source": [
    "df.education.value_counts()[df.education.value_counts() == int(df.education.value_counts().median())].index[0]"
   ]
  },
  {
   "cell_type": "code",
   "execution_count": null,
   "metadata": {},
   "outputs": [],
   "source": [
    "# Распределим признаки по типам\n",
    "num_features = ['age', 'decline_app_cnt', 'bki_request_cnt', 'income']\n",
    "binary_features = ['sex', 'car', 'car_type', 'foreign_passport']\n",
    "cat_features = ['education', 'home_address', 'work_address']\n"
   ]
  },
  {
   "cell_type": "code",
   "execution_count": null,
   "metadata": {},
   "outputs": [],
   "source": [
    "sns.countplot(x='education', data=df, hue='education')\n",
    "\n",
    "df.education.value_counts()"
   ]
  },
  {
   "cell_type": "code",
   "execution_count": null,
   "metadata": {},
   "outputs": [],
   "source": [
    "# Посмотрим баланс классов\n",
    "sns.countplot(x='default', data=df, hue='sex')"
   ]
  },
  {
   "cell_type": "code",
   "execution_count": null,
   "metadata": {},
   "outputs": [],
   "source": [
    "report = ProfileReport(df)\n",
    "#report.to_file('report.html')"
   ]
  },
  {
   "cell_type": "code",
   "execution_count": null,
   "metadata": {},
   "outputs": [],
   "source": [
    "# Посмотрим на пропуски\n",
    "import missingno as msno\n",
    "msno.matrix(df)"
   ]
  },
  {
   "cell_type": "code",
   "execution_count": null,
   "metadata": {},
   "outputs": [],
   "source": [
    "# Заполним пропуски\n",
    "df_filled = data_education_fillna()\n",
    "\n",
    "# Объединим в рабочий датасет и заполним пропуски с предсказанными классами Education\n",
    "df.education = df.education.fillna(df_filled.education)\n",
    "\n",
    "# Проверим результат модели при заполнении модой\n",
    "# df.education = df.education.fillna(df.education.mode()[0])\n",
    "\n",
    "# Посмотрим распределение предсказанных классов\n",
    "sns.countplot(x='education', data=df, hue='education')\n",
    "\n"
   ]
  },
  {
   "cell_type": "code",
   "execution_count": null,
   "metadata": {},
   "outputs": [],
   "source": []
  },
  {
   "cell_type": "code",
   "execution_count": 4,
   "metadata": {},
   "outputs": [
    {
     "output_type": "display_data",
     "data": {
      "text/plain": "        decline_app_cnt\ncount      73799.000000\nnan            0.000000\nmin            0.000000\nmax           33.000000\nmedian         0.000000\nmean           0.275749",
      "text/html": "<div>\n<style scoped>\n    .dataframe tbody tr th:only-of-type {\n        vertical-align: middle;\n    }\n\n    .dataframe tbody tr th {\n        vertical-align: top;\n    }\n\n    .dataframe thead th {\n        text-align: right;\n    }\n</style>\n<table border=\"1\" class=\"dataframe\">\n  <thead>\n    <tr style=\"text-align: right;\">\n      <th></th>\n      <th>decline_app_cnt</th>\n    </tr>\n  </thead>\n  <tbody>\n    <tr>\n      <th>count</th>\n      <td>73799.000000</td>\n    </tr>\n    <tr>\n      <th>nan</th>\n      <td>0.000000</td>\n    </tr>\n    <tr>\n      <th>min</th>\n      <td>0.000000</td>\n    </tr>\n    <tr>\n      <th>max</th>\n      <td>33.000000</td>\n    </tr>\n    <tr>\n      <th>median</th>\n      <td>0.000000</td>\n    </tr>\n    <tr>\n      <th>mean</th>\n      <td>0.275749</td>\n    </tr>\n  </tbody>\n</table>\n</div>"
     },
     "metadata": {}
    },
    {
     "output_type": "display_data",
     "data": {
      "text/plain": "<Figure size 576x288 with 2 Axes>",
      "image/svg+xml": "<?xml version=\"1.0\" encoding=\"utf-8\" standalone=\"no\"?>\r\n<!DOCTYPE svg PUBLIC \"-//W3C//DTD SVG 1.1//EN\"\r\n  \"http://www.w3.org/Graphics/SVG/1.1/DTD/svg11.dtd\">\r\n<!-- Created with matplotlib (https://matplotlib.org/) -->\r\n<svg height=\"317.638125pt\" version=\"1.1\" viewBox=\"0 0 575.06 317.638125\" width=\"575.06pt\" xmlns=\"http://www.w3.org/2000/svg\" xmlns:xlink=\"http://www.w3.org/1999/xlink\">\r\n <defs>\r\n  <style type=\"text/css\">\r\n*{stroke-linecap:butt;stroke-linejoin:round;}\r\n  </style>\r\n </defs>\r\n <g id=\"figure_1\">\r\n  <g id=\"patch_1\">\r\n   <path d=\"M 0 317.638125 \r\nL 575.06 317.638125 \r\nL 575.06 0 \r\nL 0 0 \r\nz\r\n\" style=\"fill:none;\"/>\r\n  </g>\r\n  <g id=\"axes_1\">\r\n   <g id=\"patch_2\">\r\n    <path d=\"M 71.53 293.76 \r\nL 250.09 293.76 \r\nL 250.09 76.32 \r\nL 71.53 76.32 \r\nz\r\n\" style=\"fill:#ffffff;\"/>\r\n   </g>\r\n   <g id=\"patch_3\">\r\n    <path clip-path=\"url(#p7b24ffe709)\" d=\"M 79.646364 293.76 \r\nL 82.892909 293.76 \r\nL 82.892909 86.674286 \r\nL 79.646364 86.674286 \r\nz\r\n\" style=\"fill:#1f77b4;opacity:0.4;\"/>\r\n   </g>\r\n   <g id=\"patch_4\">\r\n    <path clip-path=\"url(#p7b24ffe709)\" d=\"M 82.892909 293.76 \r\nL 86.139455 293.76 \r\nL 86.139455 265.35312 \r\nL 82.892909 265.35312 \r\nz\r\n\" style=\"fill:#1f77b4;opacity:0.4;\"/>\r\n   </g>\r\n   <g id=\"patch_5\">\r\n    <path clip-path=\"url(#p7b24ffe709)\" d=\"M 86.139455 293.76 \r\nL 89.386 293.76 \r\nL 89.386 293.76 \r\nL 86.139455 293.76 \r\nz\r\n\" style=\"fill:#1f77b4;opacity:0.4;\"/>\r\n   </g>\r\n   <g id=\"patch_6\">\r\n    <path clip-path=\"url(#p7b24ffe709)\" d=\"M 89.386 293.76 \r\nL 92.632545 293.76 \r\nL 92.632545 285.410806 \r\nL 89.386 285.410806 \r\nz\r\n\" style=\"fill:#1f77b4;opacity:0.4;\"/>\r\n   </g>\r\n   <g id=\"patch_7\">\r\n    <path clip-path=\"url(#p7b24ffe709)\" d=\"M 92.632545 293.76 \r\nL 95.879091 293.76 \r\nL 95.879091 290.705169 \r\nL 92.632545 290.705169 \r\nz\r\n\" style=\"fill:#1f77b4;opacity:0.4;\"/>\r\n   </g>\r\n   <g id=\"patch_8\">\r\n    <path clip-path=\"url(#p7b24ffe709)\" d=\"M 95.879091 293.76 \r\nL 99.125636 293.76 \r\nL 99.125636 293.76 \r\nL 95.879091 293.76 \r\nz\r\n\" style=\"fill:#1f77b4;opacity:0.4;\"/>\r\n   </g>\r\n   <g id=\"patch_9\">\r\n    <path clip-path=\"url(#p7b24ffe709)\" d=\"M 99.125636 293.76 \r\nL 102.372182 293.76 \r\nL 102.372182 292.359446 \r\nL 99.125636 292.359446 \r\nz\r\n\" style=\"fill:#1f77b4;opacity:0.4;\"/>\r\n   </g>\r\n   <g id=\"patch_10\">\r\n    <path clip-path=\"url(#p7b24ffe709)\" d=\"M 102.372182 293.76 \r\nL 105.618727 293.76 \r\nL 105.618727 293.201808 \r\nL 102.372182 293.201808 \r\nz\r\n\" style=\"fill:#1f77b4;opacity:0.4;\"/>\r\n   </g>\r\n   <g id=\"patch_11\">\r\n    <path clip-path=\"url(#p7b24ffe709)\" d=\"M 105.618727 293.76 \r\nL 108.865273 293.76 \r\nL 108.865273 293.76 \r\nL 105.618727 293.76 \r\nz\r\n\" style=\"fill:#1f77b4;opacity:0.4;\"/>\r\n   </g>\r\n   <g id=\"patch_12\">\r\n    <path clip-path=\"url(#p7b24ffe709)\" d=\"M 108.865273 293.76 \r\nL 112.111818 293.76 \r\nL 112.111818 293.377723 \r\nL 108.865273 293.377723 \r\nz\r\n\" style=\"fill:#1f77b4;opacity:0.4;\"/>\r\n   </g>\r\n   <g id=\"patch_13\">\r\n    <path clip-path=\"url(#p7b24ffe709)\" d=\"M 112.111818 293.76 \r\nL 115.358364 293.76 \r\nL 115.358364 293.597617 \r\nL 112.111818 293.597617 \r\nz\r\n\" style=\"fill:#1f77b4;opacity:0.4;\"/>\r\n   </g>\r\n   <g id=\"patch_14\">\r\n    <path clip-path=\"url(#p7b24ffe709)\" d=\"M 115.358364 293.76 \r\nL 118.604909 293.76 \r\nL 118.604909 293.76 \r\nL 115.358364 293.76 \r\nz\r\n\" style=\"fill:#1f77b4;opacity:0.4;\"/>\r\n   </g>\r\n   <g id=\"patch_15\">\r\n    <path clip-path=\"url(#p7b24ffe709)\" d=\"M 118.604909 293.76 \r\nL 121.851455 293.76 \r\nL 121.851455 293.695723 \r\nL 118.604909 293.695723 \r\nz\r\n\" style=\"fill:#1f77b4;opacity:0.4;\"/>\r\n   </g>\r\n   <g id=\"patch_16\">\r\n    <path clip-path=\"url(#p7b24ffe709)\" d=\"M 121.851455 293.76 \r\nL 125.098 293.76 \r\nL 125.098 293.678808 \r\nL 121.851455 293.678808 \r\nz\r\n\" style=\"fill:#1f77b4;opacity:0.4;\"/>\r\n   </g>\r\n   <g id=\"patch_17\">\r\n    <path clip-path=\"url(#p7b24ffe709)\" d=\"M 125.098 293.76 \r\nL 128.344545 293.76 \r\nL 128.344545 293.76 \r\nL 125.098 293.76 \r\nz\r\n\" style=\"fill:#1f77b4;opacity:0.4;\"/>\r\n   </g>\r\n   <g id=\"patch_18\">\r\n    <path clip-path=\"url(#p7b24ffe709)\" d=\"M 128.344545 293.76 \r\nL 131.591091 293.76 \r\nL 131.591091 293.722787 \r\nL 128.344545 293.722787 \r\nz\r\n\" style=\"fill:#1f77b4;opacity:0.4;\"/>\r\n   </g>\r\n   <g id=\"patch_19\">\r\n    <path clip-path=\"url(#p7b24ffe709)\" d=\"M 131.591091 293.76 \r\nL 134.837636 293.76 \r\nL 134.837636 293.729553 \r\nL 131.591091 293.729553 \r\nz\r\n\" style=\"fill:#1f77b4;opacity:0.4;\"/>\r\n   </g>\r\n   <g id=\"patch_20\">\r\n    <path clip-path=\"url(#p7b24ffe709)\" d=\"M 134.837636 293.76 \r\nL 138.084182 293.76 \r\nL 138.084182 293.76 \r\nL 134.837636 293.76 \r\nz\r\n\" style=\"fill:#1f77b4;opacity:0.4;\"/>\r\n   </g>\r\n   <g id=\"patch_21\">\r\n    <path clip-path=\"url(#p7b24ffe709)\" d=\"M 138.084182 293.76 \r\nL 141.330727 293.76 \r\nL 141.330727 293.753234 \r\nL 138.084182 293.753234 \r\nz\r\n\" style=\"fill:#1f77b4;opacity:0.4;\"/>\r\n   </g>\r\n   <g id=\"patch_22\">\r\n    <path clip-path=\"url(#p7b24ffe709)\" d=\"M 141.330727 293.76 \r\nL 144.577273 293.76 \r\nL 144.577273 293.749851 \r\nL 141.330727 293.749851 \r\nz\r\n\" style=\"fill:#1f77b4;opacity:0.4;\"/>\r\n   </g>\r\n   <g id=\"patch_23\">\r\n    <path clip-path=\"url(#p7b24ffe709)\" d=\"M 144.577273 293.76 \r\nL 147.823818 293.76 \r\nL 147.823818 293.76 \r\nL 144.577273 293.76 \r\nz\r\n\" style=\"fill:#1f77b4;opacity:0.4;\"/>\r\n   </g>\r\n   <g id=\"patch_24\">\r\n    <path clip-path=\"url(#p7b24ffe709)\" d=\"M 147.823818 293.76 \r\nL 151.070364 293.76 \r\nL 151.070364 293.753234 \r\nL 147.823818 293.753234 \r\nz\r\n\" style=\"fill:#1f77b4;opacity:0.4;\"/>\r\n   </g>\r\n   <g id=\"patch_25\">\r\n    <path clip-path=\"url(#p7b24ffe709)\" d=\"M 151.070364 293.76 \r\nL 154.316909 293.76 \r\nL 154.316909 293.756617 \r\nL 151.070364 293.756617 \r\nz\r\n\" style=\"fill:#1f77b4;opacity:0.4;\"/>\r\n   </g>\r\n   <g id=\"patch_26\">\r\n    <path clip-path=\"url(#p7b24ffe709)\" d=\"M 154.316909 293.76 \r\nL 157.563455 293.76 \r\nL 157.563455 293.76 \r\nL 154.316909 293.76 \r\nz\r\n\" style=\"fill:#1f77b4;opacity:0.4;\"/>\r\n   </g>\r\n   <g id=\"patch_27\">\r\n    <path clip-path=\"url(#p7b24ffe709)\" d=\"M 157.563455 293.76 \r\nL 160.81 293.76 \r\nL 160.81 293.753234 \r\nL 157.563455 293.753234 \r\nz\r\n\" style=\"fill:#1f77b4;opacity:0.4;\"/>\r\n   </g>\r\n   <g id=\"patch_28\">\r\n    <path clip-path=\"url(#p7b24ffe709)\" d=\"M 160.81 293.76 \r\nL 164.056545 293.76 \r\nL 164.056545 293.76 \r\nL 160.81 293.76 \r\nz\r\n\" style=\"fill:#1f77b4;opacity:0.4;\"/>\r\n   </g>\r\n   <g id=\"patch_29\">\r\n    <path clip-path=\"url(#p7b24ffe709)\" d=\"M 164.056545 293.76 \r\nL 167.303091 293.76 \r\nL 167.303091 293.76 \r\nL 164.056545 293.76 \r\nz\r\n\" style=\"fill:#1f77b4;opacity:0.4;\"/>\r\n   </g>\r\n   <g id=\"patch_30\">\r\n    <path clip-path=\"url(#p7b24ffe709)\" d=\"M 167.303091 293.76 \r\nL 170.549636 293.76 \r\nL 170.549636 293.76 \r\nL 167.303091 293.76 \r\nz\r\n\" style=\"fill:#1f77b4;opacity:0.4;\"/>\r\n   </g>\r\n   <g id=\"patch_31\">\r\n    <path clip-path=\"url(#p7b24ffe709)\" d=\"M 170.549636 293.76 \r\nL 173.796182 293.76 \r\nL 173.796182 293.756617 \r\nL 170.549636 293.756617 \r\nz\r\n\" style=\"fill:#1f77b4;opacity:0.4;\"/>\r\n   </g>\r\n   <g id=\"patch_32\">\r\n    <path clip-path=\"url(#p7b24ffe709)\" d=\"M 173.796182 293.76 \r\nL 177.042727 293.76 \r\nL 177.042727 293.76 \r\nL 173.796182 293.76 \r\nz\r\n\" style=\"fill:#1f77b4;opacity:0.4;\"/>\r\n   </g>\r\n   <g id=\"patch_33\">\r\n    <path clip-path=\"url(#p7b24ffe709)\" d=\"M 177.042727 293.76 \r\nL 180.289273 293.76 \r\nL 180.289273 293.76 \r\nL 177.042727 293.76 \r\nz\r\n\" style=\"fill:#1f77b4;opacity:0.4;\"/>\r\n   </g>\r\n   <g id=\"patch_34\">\r\n    <path clip-path=\"url(#p7b24ffe709)\" d=\"M 180.289273 293.76 \r\nL 183.535818 293.76 \r\nL 183.535818 293.76 \r\nL 180.289273 293.76 \r\nz\r\n\" style=\"fill:#1f77b4;opacity:0.4;\"/>\r\n   </g>\r\n   <g id=\"patch_35\">\r\n    <path clip-path=\"url(#p7b24ffe709)\" d=\"M 183.535818 293.76 \r\nL 186.782364 293.76 \r\nL 186.782364 293.76 \r\nL 183.535818 293.76 \r\nz\r\n\" style=\"fill:#1f77b4;opacity:0.4;\"/>\r\n   </g>\r\n   <g id=\"patch_36\">\r\n    <path clip-path=\"url(#p7b24ffe709)\" d=\"M 186.782364 293.76 \r\nL 190.028909 293.76 \r\nL 190.028909 293.756617 \r\nL 186.782364 293.756617 \r\nz\r\n\" style=\"fill:#1f77b4;opacity:0.4;\"/>\r\n   </g>\r\n   <g id=\"patch_37\">\r\n    <path clip-path=\"url(#p7b24ffe709)\" d=\"M 190.028909 293.76 \r\nL 193.275455 293.76 \r\nL 193.275455 293.76 \r\nL 190.028909 293.76 \r\nz\r\n\" style=\"fill:#1f77b4;opacity:0.4;\"/>\r\n   </g>\r\n   <g id=\"patch_38\">\r\n    <path clip-path=\"url(#p7b24ffe709)\" d=\"M 193.275455 293.76 \r\nL 196.522 293.76 \r\nL 196.522 293.76 \r\nL 193.275455 293.76 \r\nz\r\n\" style=\"fill:#1f77b4;opacity:0.4;\"/>\r\n   </g>\r\n   <g id=\"patch_39\">\r\n    <path clip-path=\"url(#p7b24ffe709)\" d=\"M 196.522 293.76 \r\nL 199.768545 293.76 \r\nL 199.768545 293.756617 \r\nL 196.522 293.756617 \r\nz\r\n\" style=\"fill:#1f77b4;opacity:0.4;\"/>\r\n   </g>\r\n   <g id=\"patch_40\">\r\n    <path clip-path=\"url(#p7b24ffe709)\" d=\"M 199.768545 293.76 \r\nL 203.015091 293.76 \r\nL 203.015091 293.76 \r\nL 199.768545 293.76 \r\nz\r\n\" style=\"fill:#1f77b4;opacity:0.4;\"/>\r\n   </g>\r\n   <g id=\"patch_41\">\r\n    <path clip-path=\"url(#p7b24ffe709)\" d=\"M 203.015091 293.76 \r\nL 206.261636 293.76 \r\nL 206.261636 293.76 \r\nL 203.015091 293.76 \r\nz\r\n\" style=\"fill:#1f77b4;opacity:0.4;\"/>\r\n   </g>\r\n   <g id=\"patch_42\">\r\n    <path clip-path=\"url(#p7b24ffe709)\" d=\"M 206.261636 293.76 \r\nL 209.508182 293.76 \r\nL 209.508182 293.76 \r\nL 206.261636 293.76 \r\nz\r\n\" style=\"fill:#1f77b4;opacity:0.4;\"/>\r\n   </g>\r\n   <g id=\"patch_43\">\r\n    <path clip-path=\"url(#p7b24ffe709)\" d=\"M 209.508182 293.76 \r\nL 212.754727 293.76 \r\nL 212.754727 293.76 \r\nL 209.508182 293.76 \r\nz\r\n\" style=\"fill:#1f77b4;opacity:0.4;\"/>\r\n   </g>\r\n   <g id=\"patch_44\">\r\n    <path clip-path=\"url(#p7b24ffe709)\" d=\"M 212.754727 293.76 \r\nL 216.001273 293.76 \r\nL 216.001273 293.76 \r\nL 212.754727 293.76 \r\nz\r\n\" style=\"fill:#1f77b4;opacity:0.4;\"/>\r\n   </g>\r\n   <g id=\"patch_45\">\r\n    <path clip-path=\"url(#p7b24ffe709)\" d=\"M 216.001273 293.76 \r\nL 219.247818 293.76 \r\nL 219.247818 293.76 \r\nL 216.001273 293.76 \r\nz\r\n\" style=\"fill:#1f77b4;opacity:0.4;\"/>\r\n   </g>\r\n   <g id=\"patch_46\">\r\n    <path clip-path=\"url(#p7b24ffe709)\" d=\"M 219.247818 293.76 \r\nL 222.494364 293.76 \r\nL 222.494364 293.76 \r\nL 219.247818 293.76 \r\nz\r\n\" style=\"fill:#1f77b4;opacity:0.4;\"/>\r\n   </g>\r\n   <g id=\"patch_47\">\r\n    <path clip-path=\"url(#p7b24ffe709)\" d=\"M 222.494364 293.76 \r\nL 225.740909 293.76 \r\nL 225.740909 293.76 \r\nL 222.494364 293.76 \r\nz\r\n\" style=\"fill:#1f77b4;opacity:0.4;\"/>\r\n   </g>\r\n   <g id=\"patch_48\">\r\n    <path clip-path=\"url(#p7b24ffe709)\" d=\"M 225.740909 293.76 \r\nL 228.987455 293.76 \r\nL 228.987455 293.76 \r\nL 225.740909 293.76 \r\nz\r\n\" style=\"fill:#1f77b4;opacity:0.4;\"/>\r\n   </g>\r\n   <g id=\"patch_49\">\r\n    <path clip-path=\"url(#p7b24ffe709)\" d=\"M 228.987455 293.76 \r\nL 232.234 293.76 \r\nL 232.234 293.76 \r\nL 228.987455 293.76 \r\nz\r\n\" style=\"fill:#1f77b4;opacity:0.4;\"/>\r\n   </g>\r\n   <g id=\"patch_50\">\r\n    <path clip-path=\"url(#p7b24ffe709)\" d=\"M 232.234 293.76 \r\nL 235.480545 293.76 \r\nL 235.480545 293.76 \r\nL 232.234 293.76 \r\nz\r\n\" style=\"fill:#1f77b4;opacity:0.4;\"/>\r\n   </g>\r\n   <g id=\"patch_51\">\r\n    <path clip-path=\"url(#p7b24ffe709)\" d=\"M 235.480545 293.76 \r\nL 238.727091 293.76 \r\nL 238.727091 293.76 \r\nL 235.480545 293.76 \r\nz\r\n\" style=\"fill:#1f77b4;opacity:0.4;\"/>\r\n   </g>\r\n   <g id=\"patch_52\">\r\n    <path clip-path=\"url(#p7b24ffe709)\" d=\"M 238.727091 293.76 \r\nL 241.973636 293.76 \r\nL 241.973636 293.756617 \r\nL 238.727091 293.756617 \r\nz\r\n\" style=\"fill:#1f77b4;opacity:0.4;\"/>\r\n   </g>\r\n   <g id=\"matplotlib.axis_1\">\r\n    <g id=\"xtick_1\">\r\n     <g id=\"line2d_1\">\r\n      <defs>\r\n       <path d=\"M 0 0 \r\nL 0 3.5 \r\n\" id=\"m1ef58ae571\" style=\"stroke:#000000;stroke-width:0.8;\"/>\r\n      </defs>\r\n      <g>\r\n       <use style=\"stroke:#000000;stroke-width:0.8;\" x=\"79.646364\" xlink:href=\"#m1ef58ae571\" y=\"293.76\"/>\r\n      </g>\r\n     </g>\r\n     <g id=\"text_1\">\r\n      <!-- 0 -->\r\n      <defs>\r\n       <path d=\"M 31.78125 66.40625 \r\nQ 24.171875 66.40625 20.328125 58.90625 \r\nQ 16.5 51.421875 16.5 36.375 \r\nQ 16.5 21.390625 20.328125 13.890625 \r\nQ 24.171875 6.390625 31.78125 6.390625 \r\nQ 39.453125 6.390625 43.28125 13.890625 \r\nQ 47.125 21.390625 47.125 36.375 \r\nQ 47.125 51.421875 43.28125 58.90625 \r\nQ 39.453125 66.40625 31.78125 66.40625 \r\nz\r\nM 31.78125 74.21875 \r\nQ 44.046875 74.21875 50.515625 64.515625 \r\nQ 56.984375 54.828125 56.984375 36.375 \r\nQ 56.984375 17.96875 50.515625 8.265625 \r\nQ 44.046875 -1.421875 31.78125 -1.421875 \r\nQ 19.53125 -1.421875 13.0625 8.265625 \r\nQ 6.59375 17.96875 6.59375 36.375 \r\nQ 6.59375 54.828125 13.0625 64.515625 \r\nQ 19.53125 74.21875 31.78125 74.21875 \r\nz\r\n\" id=\"DejaVuSans-48\"/>\r\n      </defs>\r\n      <g transform=\"translate(76.465114 308.358438)scale(0.1 -0.1)\">\r\n       <use xlink:href=\"#DejaVuSans-48\"/>\r\n      </g>\r\n     </g>\r\n    </g>\r\n    <g id=\"xtick_2\">\r\n     <g id=\"line2d_2\">\r\n      <g>\r\n       <use style=\"stroke:#000000;stroke-width:0.8;\" x=\"128.836446\" xlink:href=\"#m1ef58ae571\" y=\"293.76\"/>\r\n      </g>\r\n     </g>\r\n     <g id=\"text_2\">\r\n      <!-- 10 -->\r\n      <defs>\r\n       <path d=\"M 12.40625 8.296875 \r\nL 28.515625 8.296875 \r\nL 28.515625 63.921875 \r\nL 10.984375 60.40625 \r\nL 10.984375 69.390625 \r\nL 28.421875 72.90625 \r\nL 38.28125 72.90625 \r\nL 38.28125 8.296875 \r\nL 54.390625 8.296875 \r\nL 54.390625 0 \r\nL 12.40625 0 \r\nz\r\n\" id=\"DejaVuSans-49\"/>\r\n      </defs>\r\n      <g transform=\"translate(122.473946 308.358438)scale(0.1 -0.1)\">\r\n       <use xlink:href=\"#DejaVuSans-49\"/>\r\n       <use x=\"63.623047\" xlink:href=\"#DejaVuSans-48\"/>\r\n      </g>\r\n     </g>\r\n    </g>\r\n    <g id=\"xtick_3\">\r\n     <g id=\"line2d_3\">\r\n      <g>\r\n       <use style=\"stroke:#000000;stroke-width:0.8;\" x=\"178.026529\" xlink:href=\"#m1ef58ae571\" y=\"293.76\"/>\r\n      </g>\r\n     </g>\r\n     <g id=\"text_3\">\r\n      <!-- 20 -->\r\n      <defs>\r\n       <path d=\"M 19.1875 8.296875 \r\nL 53.609375 8.296875 \r\nL 53.609375 0 \r\nL 7.328125 0 \r\nL 7.328125 8.296875 \r\nQ 12.9375 14.109375 22.625 23.890625 \r\nQ 32.328125 33.6875 34.8125 36.53125 \r\nQ 39.546875 41.84375 41.421875 45.53125 \r\nQ 43.3125 49.21875 43.3125 52.78125 \r\nQ 43.3125 58.59375 39.234375 62.25 \r\nQ 35.15625 65.921875 28.609375 65.921875 \r\nQ 23.96875 65.921875 18.8125 64.3125 \r\nQ 13.671875 62.703125 7.8125 59.421875 \r\nL 7.8125 69.390625 \r\nQ 13.765625 71.78125 18.9375 73 \r\nQ 24.125 74.21875 28.421875 74.21875 \r\nQ 39.75 74.21875 46.484375 68.546875 \r\nQ 53.21875 62.890625 53.21875 53.421875 \r\nQ 53.21875 48.921875 51.53125 44.890625 \r\nQ 49.859375 40.875 45.40625 35.40625 \r\nQ 44.1875 33.984375 37.640625 27.21875 \r\nQ 31.109375 20.453125 19.1875 8.296875 \r\nz\r\n\" id=\"DejaVuSans-50\"/>\r\n      </defs>\r\n      <g transform=\"translate(171.664029 308.358438)scale(0.1 -0.1)\">\r\n       <use xlink:href=\"#DejaVuSans-50\"/>\r\n       <use x=\"63.623047\" xlink:href=\"#DejaVuSans-48\"/>\r\n      </g>\r\n     </g>\r\n    </g>\r\n    <g id=\"xtick_4\">\r\n     <g id=\"line2d_4\">\r\n      <g>\r\n       <use style=\"stroke:#000000;stroke-width:0.8;\" x=\"227.216612\" xlink:href=\"#m1ef58ae571\" y=\"293.76\"/>\r\n      </g>\r\n     </g>\r\n     <g id=\"text_4\">\r\n      <!-- 30 -->\r\n      <defs>\r\n       <path d=\"M 40.578125 39.3125 \r\nQ 47.65625 37.796875 51.625 33 \r\nQ 55.609375 28.21875 55.609375 21.1875 \r\nQ 55.609375 10.40625 48.1875 4.484375 \r\nQ 40.765625 -1.421875 27.09375 -1.421875 \r\nQ 22.515625 -1.421875 17.65625 -0.515625 \r\nQ 12.796875 0.390625 7.625 2.203125 \r\nL 7.625 11.71875 \r\nQ 11.71875 9.328125 16.59375 8.109375 \r\nQ 21.484375 6.890625 26.8125 6.890625 \r\nQ 36.078125 6.890625 40.9375 10.546875 \r\nQ 45.796875 14.203125 45.796875 21.1875 \r\nQ 45.796875 27.640625 41.28125 31.265625 \r\nQ 36.765625 34.90625 28.71875 34.90625 \r\nL 20.21875 34.90625 \r\nL 20.21875 43.015625 \r\nL 29.109375 43.015625 \r\nQ 36.375 43.015625 40.234375 45.921875 \r\nQ 44.09375 48.828125 44.09375 54.296875 \r\nQ 44.09375 59.90625 40.109375 62.90625 \r\nQ 36.140625 65.921875 28.71875 65.921875 \r\nQ 24.65625 65.921875 20.015625 65.03125 \r\nQ 15.375 64.15625 9.8125 62.3125 \r\nL 9.8125 71.09375 \r\nQ 15.4375 72.65625 20.34375 73.4375 \r\nQ 25.25 74.21875 29.59375 74.21875 \r\nQ 40.828125 74.21875 47.359375 69.109375 \r\nQ 53.90625 64.015625 53.90625 55.328125 \r\nQ 53.90625 49.265625 50.4375 45.09375 \r\nQ 46.96875 40.921875 40.578125 39.3125 \r\nz\r\n\" id=\"DejaVuSans-51\"/>\r\n      </defs>\r\n      <g transform=\"translate(220.854112 308.358438)scale(0.1 -0.1)\">\r\n       <use xlink:href=\"#DejaVuSans-51\"/>\r\n       <use x=\"63.623047\" xlink:href=\"#DejaVuSans-48\"/>\r\n      </g>\r\n     </g>\r\n    </g>\r\n   </g>\r\n   <g id=\"matplotlib.axis_2\">\r\n    <g id=\"ytick_1\">\r\n     <g id=\"line2d_5\">\r\n      <defs>\r\n       <path d=\"M 0 0 \r\nL -3.5 0 \r\n\" id=\"m3b49294a06\" style=\"stroke:#000000;stroke-width:0.8;\"/>\r\n      </defs>\r\n      <g>\r\n       <use style=\"stroke:#000000;stroke-width:0.8;\" x=\"71.53\" xlink:href=\"#m3b49294a06\" y=\"293.76\"/>\r\n      </g>\r\n     </g>\r\n     <g id=\"text_5\">\r\n      <!-- 0.0 -->\r\n      <defs>\r\n       <path d=\"M 10.6875 12.40625 \r\nL 21 12.40625 \r\nL 21 0 \r\nL 10.6875 0 \r\nz\r\n\" id=\"DejaVuSans-46\"/>\r\n      </defs>\r\n      <g transform=\"translate(48.626875 297.559219)scale(0.1 -0.1)\">\r\n       <use xlink:href=\"#DejaVuSans-48\"/>\r\n       <use x=\"63.623047\" xlink:href=\"#DejaVuSans-46\"/>\r\n       <use x=\"95.410156\" xlink:href=\"#DejaVuSans-48\"/>\r\n      </g>\r\n     </g>\r\n    </g>\r\n    <g id=\"ytick_2\">\r\n     <g id=\"line2d_6\">\r\n      <g>\r\n       <use style=\"stroke:#000000;stroke-width:0.8;\" x=\"71.53\" xlink:href=\"#m3b49294a06\" y=\"260.804812\"/>\r\n      </g>\r\n     </g>\r\n     <g id=\"text_6\">\r\n      <!-- 0.2 -->\r\n      <g transform=\"translate(48.626875 264.604031)scale(0.1 -0.1)\">\r\n       <use xlink:href=\"#DejaVuSans-48\"/>\r\n       <use x=\"63.623047\" xlink:href=\"#DejaVuSans-46\"/>\r\n       <use x=\"95.410156\" xlink:href=\"#DejaVuSans-50\"/>\r\n      </g>\r\n     </g>\r\n    </g>\r\n    <g id=\"ytick_3\">\r\n     <g id=\"line2d_7\">\r\n      <g>\r\n       <use style=\"stroke:#000000;stroke-width:0.8;\" x=\"71.53\" xlink:href=\"#m3b49294a06\" y=\"227.849625\"/>\r\n      </g>\r\n     </g>\r\n     <g id=\"text_7\">\r\n      <!-- 0.4 -->\r\n      <defs>\r\n       <path d=\"M 37.796875 64.3125 \r\nL 12.890625 25.390625 \r\nL 37.796875 25.390625 \r\nz\r\nM 35.203125 72.90625 \r\nL 47.609375 72.90625 \r\nL 47.609375 25.390625 \r\nL 58.015625 25.390625 \r\nL 58.015625 17.1875 \r\nL 47.609375 17.1875 \r\nL 47.609375 0 \r\nL 37.796875 0 \r\nL 37.796875 17.1875 \r\nL 4.890625 17.1875 \r\nL 4.890625 26.703125 \r\nz\r\n\" id=\"DejaVuSans-52\"/>\r\n      </defs>\r\n      <g transform=\"translate(48.626875 231.648843)scale(0.1 -0.1)\">\r\n       <use xlink:href=\"#DejaVuSans-48\"/>\r\n       <use x=\"63.623047\" xlink:href=\"#DejaVuSans-46\"/>\r\n       <use x=\"95.410156\" xlink:href=\"#DejaVuSans-52\"/>\r\n      </g>\r\n     </g>\r\n    </g>\r\n    <g id=\"ytick_4\">\r\n     <g id=\"line2d_8\">\r\n      <g>\r\n       <use style=\"stroke:#000000;stroke-width:0.8;\" x=\"71.53\" xlink:href=\"#m3b49294a06\" y=\"194.894437\"/>\r\n      </g>\r\n     </g>\r\n     <g id=\"text_8\">\r\n      <!-- 0.6 -->\r\n      <defs>\r\n       <path d=\"M 33.015625 40.375 \r\nQ 26.375 40.375 22.484375 35.828125 \r\nQ 18.609375 31.296875 18.609375 23.390625 \r\nQ 18.609375 15.53125 22.484375 10.953125 \r\nQ 26.375 6.390625 33.015625 6.390625 \r\nQ 39.65625 6.390625 43.53125 10.953125 \r\nQ 47.40625 15.53125 47.40625 23.390625 \r\nQ 47.40625 31.296875 43.53125 35.828125 \r\nQ 39.65625 40.375 33.015625 40.375 \r\nz\r\nM 52.59375 71.296875 \r\nL 52.59375 62.3125 \r\nQ 48.875 64.0625 45.09375 64.984375 \r\nQ 41.3125 65.921875 37.59375 65.921875 \r\nQ 27.828125 65.921875 22.671875 59.328125 \r\nQ 17.53125 52.734375 16.796875 39.40625 \r\nQ 19.671875 43.65625 24.015625 45.921875 \r\nQ 28.375 48.1875 33.59375 48.1875 \r\nQ 44.578125 48.1875 50.953125 41.515625 \r\nQ 57.328125 34.859375 57.328125 23.390625 \r\nQ 57.328125 12.15625 50.6875 5.359375 \r\nQ 44.046875 -1.421875 33.015625 -1.421875 \r\nQ 20.359375 -1.421875 13.671875 8.265625 \r\nQ 6.984375 17.96875 6.984375 36.375 \r\nQ 6.984375 53.65625 15.1875 63.9375 \r\nQ 23.390625 74.21875 37.203125 74.21875 \r\nQ 40.921875 74.21875 44.703125 73.484375 \r\nQ 48.484375 72.75 52.59375 71.296875 \r\nz\r\n\" id=\"DejaVuSans-54\"/>\r\n      </defs>\r\n      <g transform=\"translate(48.626875 198.693656)scale(0.1 -0.1)\">\r\n       <use xlink:href=\"#DejaVuSans-48\"/>\r\n       <use x=\"63.623047\" xlink:href=\"#DejaVuSans-46\"/>\r\n       <use x=\"95.410156\" xlink:href=\"#DejaVuSans-54\"/>\r\n      </g>\r\n     </g>\r\n    </g>\r\n    <g id=\"ytick_5\">\r\n     <g id=\"line2d_9\">\r\n      <g>\r\n       <use style=\"stroke:#000000;stroke-width:0.8;\" x=\"71.53\" xlink:href=\"#m3b49294a06\" y=\"161.939249\"/>\r\n      </g>\r\n     </g>\r\n     <g id=\"text_9\">\r\n      <!-- 0.8 -->\r\n      <defs>\r\n       <path d=\"M 31.78125 34.625 \r\nQ 24.75 34.625 20.71875 30.859375 \r\nQ 16.703125 27.09375 16.703125 20.515625 \r\nQ 16.703125 13.921875 20.71875 10.15625 \r\nQ 24.75 6.390625 31.78125 6.390625 \r\nQ 38.8125 6.390625 42.859375 10.171875 \r\nQ 46.921875 13.96875 46.921875 20.515625 \r\nQ 46.921875 27.09375 42.890625 30.859375 \r\nQ 38.875 34.625 31.78125 34.625 \r\nz\r\nM 21.921875 38.8125 \r\nQ 15.578125 40.375 12.03125 44.71875 \r\nQ 8.5 49.078125 8.5 55.328125 \r\nQ 8.5 64.0625 14.71875 69.140625 \r\nQ 20.953125 74.21875 31.78125 74.21875 \r\nQ 42.671875 74.21875 48.875 69.140625 \r\nQ 55.078125 64.0625 55.078125 55.328125 \r\nQ 55.078125 49.078125 51.53125 44.71875 \r\nQ 48 40.375 41.703125 38.8125 \r\nQ 48.828125 37.15625 52.796875 32.3125 \r\nQ 56.78125 27.484375 56.78125 20.515625 \r\nQ 56.78125 9.90625 50.3125 4.234375 \r\nQ 43.84375 -1.421875 31.78125 -1.421875 \r\nQ 19.734375 -1.421875 13.25 4.234375 \r\nQ 6.78125 9.90625 6.78125 20.515625 \r\nQ 6.78125 27.484375 10.78125 32.3125 \r\nQ 14.796875 37.15625 21.921875 38.8125 \r\nz\r\nM 18.3125 54.390625 \r\nQ 18.3125 48.734375 21.84375 45.5625 \r\nQ 25.390625 42.390625 31.78125 42.390625 \r\nQ 38.140625 42.390625 41.71875 45.5625 \r\nQ 45.3125 48.734375 45.3125 54.390625 \r\nQ 45.3125 60.0625 41.71875 63.234375 \r\nQ 38.140625 66.40625 31.78125 66.40625 \r\nQ 25.390625 66.40625 21.84375 63.234375 \r\nQ 18.3125 60.0625 18.3125 54.390625 \r\nz\r\n\" id=\"DejaVuSans-56\"/>\r\n      </defs>\r\n      <g transform=\"translate(48.626875 165.738468)scale(0.1 -0.1)\">\r\n       <use xlink:href=\"#DejaVuSans-48\"/>\r\n       <use x=\"63.623047\" xlink:href=\"#DejaVuSans-46\"/>\r\n       <use x=\"95.410156\" xlink:href=\"#DejaVuSans-56\"/>\r\n      </g>\r\n     </g>\r\n    </g>\r\n    <g id=\"ytick_6\">\r\n     <g id=\"line2d_10\">\r\n      <g>\r\n       <use style=\"stroke:#000000;stroke-width:0.8;\" x=\"71.53\" xlink:href=\"#m3b49294a06\" y=\"128.984062\"/>\r\n      </g>\r\n     </g>\r\n     <g id=\"text_10\">\r\n      <!-- 1.0 -->\r\n      <g transform=\"translate(48.626875 132.78328)scale(0.1 -0.1)\">\r\n       <use xlink:href=\"#DejaVuSans-49\"/>\r\n       <use x=\"63.623047\" xlink:href=\"#DejaVuSans-46\"/>\r\n       <use x=\"95.410156\" xlink:href=\"#DejaVuSans-48\"/>\r\n      </g>\r\n     </g>\r\n    </g>\r\n    <g id=\"ytick_7\">\r\n     <g id=\"line2d_11\">\r\n      <g>\r\n       <use style=\"stroke:#000000;stroke-width:0.8;\" x=\"71.53\" xlink:href=\"#m3b49294a06\" y=\"96.028874\"/>\r\n      </g>\r\n     </g>\r\n     <g id=\"text_11\">\r\n      <!-- 1.2 -->\r\n      <g transform=\"translate(48.626875 99.828093)scale(0.1 -0.1)\">\r\n       <use xlink:href=\"#DejaVuSans-49\"/>\r\n       <use x=\"63.623047\" xlink:href=\"#DejaVuSans-46\"/>\r\n       <use x=\"95.410156\" xlink:href=\"#DejaVuSans-50\"/>\r\n      </g>\r\n     </g>\r\n    </g>\r\n   </g>\r\n   <g id=\"line2d_12\"/>\r\n   <g id=\"patch_53\">\r\n    <path d=\"M 71.53 293.76 \r\nL 71.53 76.32 \r\n\" style=\"fill:none;stroke:#000000;stroke-linecap:square;stroke-linejoin:miter;stroke-width:0.8;\"/>\r\n   </g>\r\n   <g id=\"patch_54\">\r\n    <path d=\"M 250.09 293.76 \r\nL 250.09 76.32 \r\n\" style=\"fill:none;stroke:#000000;stroke-linecap:square;stroke-linejoin:miter;stroke-width:0.8;\"/>\r\n   </g>\r\n   <g id=\"patch_55\">\r\n    <path d=\"M 71.53 293.76 \r\nL 250.09 293.76 \r\n\" style=\"fill:none;stroke:#000000;stroke-linecap:square;stroke-linejoin:miter;stroke-width:0.8;\"/>\r\n   </g>\r\n   <g id=\"patch_56\">\r\n    <path d=\"M 71.53 76.32 \r\nL 250.09 76.32 \r\n\" style=\"fill:none;stroke:#000000;stroke-linecap:square;stroke-linejoin:miter;stroke-width:0.8;\"/>\r\n   </g>\r\n   <g id=\"text_12\">\r\n    <!-- decline_app_cnt -->\r\n    <defs>\r\n     <path d=\"M 45.40625 46.390625 \r\nL 45.40625 75.984375 \r\nL 54.390625 75.984375 \r\nL 54.390625 0 \r\nL 45.40625 0 \r\nL 45.40625 8.203125 \r\nQ 42.578125 3.328125 38.25 0.953125 \r\nQ 33.9375 -1.421875 27.875 -1.421875 \r\nQ 17.96875 -1.421875 11.734375 6.484375 \r\nQ 5.515625 14.40625 5.515625 27.296875 \r\nQ 5.515625 40.1875 11.734375 48.09375 \r\nQ 17.96875 56 27.875 56 \r\nQ 33.9375 56 38.25 53.625 \r\nQ 42.578125 51.265625 45.40625 46.390625 \r\nz\r\nM 14.796875 27.296875 \r\nQ 14.796875 17.390625 18.875 11.75 \r\nQ 22.953125 6.109375 30.078125 6.109375 \r\nQ 37.203125 6.109375 41.296875 11.75 \r\nQ 45.40625 17.390625 45.40625 27.296875 \r\nQ 45.40625 37.203125 41.296875 42.84375 \r\nQ 37.203125 48.484375 30.078125 48.484375 \r\nQ 22.953125 48.484375 18.875 42.84375 \r\nQ 14.796875 37.203125 14.796875 27.296875 \r\nz\r\n\" id=\"DejaVuSans-100\"/>\r\n     <path d=\"M 56.203125 29.59375 \r\nL 56.203125 25.203125 \r\nL 14.890625 25.203125 \r\nQ 15.484375 15.921875 20.484375 11.0625 \r\nQ 25.484375 6.203125 34.421875 6.203125 \r\nQ 39.59375 6.203125 44.453125 7.46875 \r\nQ 49.3125 8.734375 54.109375 11.28125 \r\nL 54.109375 2.78125 \r\nQ 49.265625 0.734375 44.1875 -0.34375 \r\nQ 39.109375 -1.421875 33.890625 -1.421875 \r\nQ 20.796875 -1.421875 13.15625 6.1875 \r\nQ 5.515625 13.8125 5.515625 26.8125 \r\nQ 5.515625 40.234375 12.765625 48.109375 \r\nQ 20.015625 56 32.328125 56 \r\nQ 43.359375 56 49.78125 48.890625 \r\nQ 56.203125 41.796875 56.203125 29.59375 \r\nz\r\nM 47.21875 32.234375 \r\nQ 47.125 39.59375 43.09375 43.984375 \r\nQ 39.0625 48.390625 32.421875 48.390625 \r\nQ 24.90625 48.390625 20.390625 44.140625 \r\nQ 15.875 39.890625 15.1875 32.171875 \r\nz\r\n\" id=\"DejaVuSans-101\"/>\r\n     <path d=\"M 48.78125 52.59375 \r\nL 48.78125 44.1875 \r\nQ 44.96875 46.296875 41.140625 47.34375 \r\nQ 37.3125 48.390625 33.40625 48.390625 \r\nQ 24.65625 48.390625 19.8125 42.84375 \r\nQ 14.984375 37.3125 14.984375 27.296875 \r\nQ 14.984375 17.28125 19.8125 11.734375 \r\nQ 24.65625 6.203125 33.40625 6.203125 \r\nQ 37.3125 6.203125 41.140625 7.25 \r\nQ 44.96875 8.296875 48.78125 10.40625 \r\nL 48.78125 2.09375 \r\nQ 45.015625 0.34375 40.984375 -0.53125 \r\nQ 36.96875 -1.421875 32.421875 -1.421875 \r\nQ 20.0625 -1.421875 12.78125 6.34375 \r\nQ 5.515625 14.109375 5.515625 27.296875 \r\nQ 5.515625 40.671875 12.859375 48.328125 \r\nQ 20.21875 56 33.015625 56 \r\nQ 37.15625 56 41.109375 55.140625 \r\nQ 45.0625 54.296875 48.78125 52.59375 \r\nz\r\n\" id=\"DejaVuSans-99\"/>\r\n     <path d=\"M 9.421875 75.984375 \r\nL 18.40625 75.984375 \r\nL 18.40625 0 \r\nL 9.421875 0 \r\nz\r\n\" id=\"DejaVuSans-108\"/>\r\n     <path d=\"M 9.421875 54.6875 \r\nL 18.40625 54.6875 \r\nL 18.40625 0 \r\nL 9.421875 0 \r\nz\r\nM 9.421875 75.984375 \r\nL 18.40625 75.984375 \r\nL 18.40625 64.59375 \r\nL 9.421875 64.59375 \r\nz\r\n\" id=\"DejaVuSans-105\"/>\r\n     <path d=\"M 54.890625 33.015625 \r\nL 54.890625 0 \r\nL 45.90625 0 \r\nL 45.90625 32.71875 \r\nQ 45.90625 40.484375 42.875 44.328125 \r\nQ 39.84375 48.1875 33.796875 48.1875 \r\nQ 26.515625 48.1875 22.3125 43.546875 \r\nQ 18.109375 38.921875 18.109375 30.90625 \r\nL 18.109375 0 \r\nL 9.078125 0 \r\nL 9.078125 54.6875 \r\nL 18.109375 54.6875 \r\nL 18.109375 46.1875 \r\nQ 21.34375 51.125 25.703125 53.5625 \r\nQ 30.078125 56 35.796875 56 \r\nQ 45.21875 56 50.046875 50.171875 \r\nQ 54.890625 44.34375 54.890625 33.015625 \r\nz\r\n\" id=\"DejaVuSans-110\"/>\r\n     <path d=\"M 50.984375 -16.609375 \r\nL 50.984375 -23.578125 \r\nL -0.984375 -23.578125 \r\nL -0.984375 -16.609375 \r\nz\r\n\" id=\"DejaVuSans-95\"/>\r\n     <path d=\"M 34.28125 27.484375 \r\nQ 23.390625 27.484375 19.1875 25 \r\nQ 14.984375 22.515625 14.984375 16.5 \r\nQ 14.984375 11.71875 18.140625 8.90625 \r\nQ 21.296875 6.109375 26.703125 6.109375 \r\nQ 34.1875 6.109375 38.703125 11.40625 \r\nQ 43.21875 16.703125 43.21875 25.484375 \r\nL 43.21875 27.484375 \r\nz\r\nM 52.203125 31.203125 \r\nL 52.203125 0 \r\nL 43.21875 0 \r\nL 43.21875 8.296875 \r\nQ 40.140625 3.328125 35.546875 0.953125 \r\nQ 30.953125 -1.421875 24.3125 -1.421875 \r\nQ 15.921875 -1.421875 10.953125 3.296875 \r\nQ 6 8.015625 6 15.921875 \r\nQ 6 25.140625 12.171875 29.828125 \r\nQ 18.359375 34.515625 30.609375 34.515625 \r\nL 43.21875 34.515625 \r\nL 43.21875 35.40625 \r\nQ 43.21875 41.609375 39.140625 45 \r\nQ 35.0625 48.390625 27.6875 48.390625 \r\nQ 23 48.390625 18.546875 47.265625 \r\nQ 14.109375 46.140625 10.015625 43.890625 \r\nL 10.015625 52.203125 \r\nQ 14.9375 54.109375 19.578125 55.046875 \r\nQ 24.21875 56 28.609375 56 \r\nQ 40.484375 56 46.34375 49.84375 \r\nQ 52.203125 43.703125 52.203125 31.203125 \r\nz\r\n\" id=\"DejaVuSans-97\"/>\r\n     <path d=\"M 18.109375 8.203125 \r\nL 18.109375 -20.796875 \r\nL 9.078125 -20.796875 \r\nL 9.078125 54.6875 \r\nL 18.109375 54.6875 \r\nL 18.109375 46.390625 \r\nQ 20.953125 51.265625 25.265625 53.625 \r\nQ 29.59375 56 35.59375 56 \r\nQ 45.5625 56 51.78125 48.09375 \r\nQ 58.015625 40.1875 58.015625 27.296875 \r\nQ 58.015625 14.40625 51.78125 6.484375 \r\nQ 45.5625 -1.421875 35.59375 -1.421875 \r\nQ 29.59375 -1.421875 25.265625 0.953125 \r\nQ 20.953125 3.328125 18.109375 8.203125 \r\nz\r\nM 48.6875 27.296875 \r\nQ 48.6875 37.203125 44.609375 42.84375 \r\nQ 40.53125 48.484375 33.40625 48.484375 \r\nQ 26.265625 48.484375 22.1875 42.84375 \r\nQ 18.109375 37.203125 18.109375 27.296875 \r\nQ 18.109375 17.390625 22.1875 11.75 \r\nQ 26.265625 6.109375 33.40625 6.109375 \r\nQ 40.53125 6.109375 44.609375 11.75 \r\nQ 48.6875 17.390625 48.6875 27.296875 \r\nz\r\n\" id=\"DejaVuSans-112\"/>\r\n     <path d=\"M 18.3125 70.21875 \r\nL 18.3125 54.6875 \r\nL 36.8125 54.6875 \r\nL 36.8125 47.703125 \r\nL 18.3125 47.703125 \r\nL 18.3125 18.015625 \r\nQ 18.3125 11.328125 20.140625 9.421875 \r\nQ 21.96875 7.515625 27.59375 7.515625 \r\nL 36.8125 7.515625 \r\nL 36.8125 0 \r\nL 27.59375 0 \r\nQ 17.1875 0 13.234375 3.875 \r\nQ 9.28125 7.765625 9.28125 18.015625 \r\nL 9.28125 47.703125 \r\nL 2.6875 47.703125 \r\nL 2.6875 54.6875 \r\nL 9.28125 54.6875 \r\nL 9.28125 70.21875 \r\nz\r\n\" id=\"DejaVuSans-116\"/>\r\n    </defs>\r\n    <g transform=\"translate(112.433125 70.32)scale(0.12 -0.12)\">\r\n     <use xlink:href=\"#DejaVuSans-100\"/>\r\n     <use x=\"63.476562\" xlink:href=\"#DejaVuSans-101\"/>\r\n     <use x=\"125\" xlink:href=\"#DejaVuSans-99\"/>\r\n     <use x=\"179.980469\" xlink:href=\"#DejaVuSans-108\"/>\r\n     <use x=\"207.763672\" xlink:href=\"#DejaVuSans-105\"/>\r\n     <use x=\"235.546875\" xlink:href=\"#DejaVuSans-110\"/>\r\n     <use x=\"298.925781\" xlink:href=\"#DejaVuSans-101\"/>\r\n     <use x=\"360.449219\" xlink:href=\"#DejaVuSans-95\"/>\r\n     <use x=\"410.449219\" xlink:href=\"#DejaVuSans-97\"/>\r\n     <use x=\"471.728516\" xlink:href=\"#DejaVuSans-112\"/>\r\n     <use x=\"535.205078\" xlink:href=\"#DejaVuSans-112\"/>\r\n     <use x=\"598.681641\" xlink:href=\"#DejaVuSans-95\"/>\r\n     <use x=\"648.681641\" xlink:href=\"#DejaVuSans-99\"/>\r\n     <use x=\"703.662109\" xlink:href=\"#DejaVuSans-110\"/>\r\n     <use x=\"767.041016\" xlink:href=\"#DejaVuSans-116\"/>\r\n    </g>\r\n   </g>\r\n  </g>\r\n  <g id=\"axes_2\">\r\n   <g id=\"patch_57\">\r\n    <path d=\"M 339.37 293.76 \r\nL 517.93 293.76 \r\nL 517.93 76.32 \r\nL 339.37 76.32 \r\nz\r\n\" style=\"fill:#ffffff;\"/>\r\n   </g>\r\n   <g id=\"patch_58\">\r\n    <path clip-path=\"url(#p518b93f1da)\" d=\"M 347.486364 293.76 \r\nL 350.732909 293.76 \r\nL 350.732909 86.674286 \r\nL 347.486364 86.674286 \r\nz\r\n\" style=\"fill:#1f77b4;opacity:0.4;\"/>\r\n   </g>\r\n   <g id=\"patch_59\">\r\n    <path clip-path=\"url(#p518b93f1da)\" d=\"M 350.732909 293.76 \r\nL 353.979455 293.76 \r\nL 353.979455 293.76 \r\nL 350.732909 293.76 \r\nz\r\n\" style=\"fill:#1f77b4;opacity:0.4;\"/>\r\n   </g>\r\n   <g id=\"patch_60\">\r\n    <path clip-path=\"url(#p518b93f1da)\" d=\"M 353.979455 293.76 \r\nL 357.226 293.76 \r\nL 357.226 293.76 \r\nL 353.979455 293.76 \r\nz\r\n\" style=\"fill:#1f77b4;opacity:0.4;\"/>\r\n   </g>\r\n   <g id=\"patch_61\">\r\n    <path clip-path=\"url(#p518b93f1da)\" d=\"M 357.226 293.76 \r\nL 360.472545 293.76 \r\nL 360.472545 293.76 \r\nL 357.226 293.76 \r\nz\r\n\" style=\"fill:#1f77b4;opacity:0.4;\"/>\r\n   </g>\r\n   <g id=\"patch_62\">\r\n    <path clip-path=\"url(#p518b93f1da)\" d=\"M 360.472545 293.76 \r\nL 363.719091 293.76 \r\nL 363.719091 293.76 \r\nL 360.472545 293.76 \r\nz\r\n\" style=\"fill:#1f77b4;opacity:0.4;\"/>\r\n   </g>\r\n   <g id=\"patch_63\">\r\n    <path clip-path=\"url(#p518b93f1da)\" d=\"M 363.719091 293.76 \r\nL 366.965636 293.76 \r\nL 366.965636 293.76 \r\nL 363.719091 293.76 \r\nz\r\n\" style=\"fill:#1f77b4;opacity:0.4;\"/>\r\n   </g>\r\n   <g id=\"patch_64\">\r\n    <path clip-path=\"url(#p518b93f1da)\" d=\"M 366.965636 293.76 \r\nL 370.212182 293.76 \r\nL 370.212182 293.76 \r\nL 366.965636 293.76 \r\nz\r\n\" style=\"fill:#1f77b4;opacity:0.4;\"/>\r\n   </g>\r\n   <g id=\"patch_65\">\r\n    <path clip-path=\"url(#p518b93f1da)\" d=\"M 370.212182 293.76 \r\nL 373.458727 293.76 \r\nL 373.458727 293.76 \r\nL 370.212182 293.76 \r\nz\r\n\" style=\"fill:#1f77b4;opacity:0.4;\"/>\r\n   </g>\r\n   <g id=\"patch_66\">\r\n    <path clip-path=\"url(#p518b93f1da)\" d=\"M 373.458727 293.76 \r\nL 376.705273 293.76 \r\nL 376.705273 293.76 \r\nL 373.458727 293.76 \r\nz\r\n\" style=\"fill:#1f77b4;opacity:0.4;\"/>\r\n   </g>\r\n   <g id=\"patch_67\">\r\n    <path clip-path=\"url(#p518b93f1da)\" d=\"M 376.705273 293.76 \r\nL 379.951818 293.76 \r\nL 379.951818 265.35312 \r\nL 376.705273 265.35312 \r\nz\r\n\" style=\"fill:#1f77b4;opacity:0.4;\"/>\r\n   </g>\r\n   <g id=\"patch_68\">\r\n    <path clip-path=\"url(#p518b93f1da)\" d=\"M 379.951818 293.76 \r\nL 383.198364 293.76 \r\nL 383.198364 293.76 \r\nL 379.951818 293.76 \r\nz\r\n\" style=\"fill:#1f77b4;opacity:0.4;\"/>\r\n   </g>\r\n   <g id=\"patch_69\">\r\n    <path clip-path=\"url(#p518b93f1da)\" d=\"M 383.198364 293.76 \r\nL 386.444909 293.76 \r\nL 386.444909 293.76 \r\nL 383.198364 293.76 \r\nz\r\n\" style=\"fill:#1f77b4;opacity:0.4;\"/>\r\n   </g>\r\n   <g id=\"patch_70\">\r\n    <path clip-path=\"url(#p518b93f1da)\" d=\"M 386.444909 293.76 \r\nL 389.691455 293.76 \r\nL 389.691455 293.76 \r\nL 386.444909 293.76 \r\nz\r\n\" style=\"fill:#1f77b4;opacity:0.4;\"/>\r\n   </g>\r\n   <g id=\"patch_71\">\r\n    <path clip-path=\"url(#p518b93f1da)\" d=\"M 389.691455 293.76 \r\nL 392.938 293.76 \r\nL 392.938 293.76 \r\nL 389.691455 293.76 \r\nz\r\n\" style=\"fill:#1f77b4;opacity:0.4;\"/>\r\n   </g>\r\n   <g id=\"patch_72\">\r\n    <path clip-path=\"url(#p518b93f1da)\" d=\"M 392.938 293.76 \r\nL 396.184545 293.76 \r\nL 396.184545 293.76 \r\nL 392.938 293.76 \r\nz\r\n\" style=\"fill:#1f77b4;opacity:0.4;\"/>\r\n   </g>\r\n   <g id=\"patch_73\">\r\n    <path clip-path=\"url(#p518b93f1da)\" d=\"M 396.184545 293.76 \r\nL 399.431091 293.76 \r\nL 399.431091 285.410806 \r\nL 396.184545 285.410806 \r\nz\r\n\" style=\"fill:#1f77b4;opacity:0.4;\"/>\r\n   </g>\r\n   <g id=\"patch_74\">\r\n    <path clip-path=\"url(#p518b93f1da)\" d=\"M 399.431091 293.76 \r\nL 402.677636 293.76 \r\nL 402.677636 293.76 \r\nL 399.431091 293.76 \r\nz\r\n\" style=\"fill:#1f77b4;opacity:0.4;\"/>\r\n   </g>\r\n   <g id=\"patch_75\">\r\n    <path clip-path=\"url(#p518b93f1da)\" d=\"M 402.677636 293.76 \r\nL 405.924182 293.76 \r\nL 405.924182 293.76 \r\nL 402.677636 293.76 \r\nz\r\n\" style=\"fill:#1f77b4;opacity:0.4;\"/>\r\n   </g>\r\n   <g id=\"patch_76\">\r\n    <path clip-path=\"url(#p518b93f1da)\" d=\"M 405.924182 293.76 \r\nL 409.170727 293.76 \r\nL 409.170727 293.76 \r\nL 405.924182 293.76 \r\nz\r\n\" style=\"fill:#1f77b4;opacity:0.4;\"/>\r\n   </g>\r\n   <g id=\"patch_77\">\r\n    <path clip-path=\"url(#p518b93f1da)\" d=\"M 409.170727 293.76 \r\nL 412.417273 293.76 \r\nL 412.417273 290.705169 \r\nL 409.170727 290.705169 \r\nz\r\n\" style=\"fill:#1f77b4;opacity:0.4;\"/>\r\n   </g>\r\n   <g id=\"patch_78\">\r\n    <path clip-path=\"url(#p518b93f1da)\" d=\"M 412.417273 293.76 \r\nL 415.663818 293.76 \r\nL 415.663818 293.76 \r\nL 412.417273 293.76 \r\nz\r\n\" style=\"fill:#1f77b4;opacity:0.4;\"/>\r\n   </g>\r\n   <g id=\"patch_79\">\r\n    <path clip-path=\"url(#p518b93f1da)\" d=\"M 415.663818 293.76 \r\nL 418.910364 293.76 \r\nL 418.910364 293.76 \r\nL 415.663818 293.76 \r\nz\r\n\" style=\"fill:#1f77b4;opacity:0.4;\"/>\r\n   </g>\r\n   <g id=\"patch_80\">\r\n    <path clip-path=\"url(#p518b93f1da)\" d=\"M 418.910364 293.76 \r\nL 422.156909 293.76 \r\nL 422.156909 292.359446 \r\nL 418.910364 292.359446 \r\nz\r\n\" style=\"fill:#1f77b4;opacity:0.4;\"/>\r\n   </g>\r\n   <g id=\"patch_81\">\r\n    <path clip-path=\"url(#p518b93f1da)\" d=\"M 422.156909 293.76 \r\nL 425.403455 293.76 \r\nL 425.403455 293.76 \r\nL 422.156909 293.76 \r\nz\r\n\" style=\"fill:#1f77b4;opacity:0.4;\"/>\r\n   </g>\r\n   <g id=\"patch_82\">\r\n    <path clip-path=\"url(#p518b93f1da)\" d=\"M 425.403455 293.76 \r\nL 428.65 293.76 \r\nL 428.65 293.76 \r\nL 425.403455 293.76 \r\nz\r\n\" style=\"fill:#1f77b4;opacity:0.4;\"/>\r\n   </g>\r\n   <g id=\"patch_83\">\r\n    <path clip-path=\"url(#p518b93f1da)\" d=\"M 428.65 293.76 \r\nL 431.896545 293.76 \r\nL 431.896545 293.201808 \r\nL 428.65 293.201808 \r\nz\r\n\" style=\"fill:#1f77b4;opacity:0.4;\"/>\r\n   </g>\r\n   <g id=\"patch_84\">\r\n    <path clip-path=\"url(#p518b93f1da)\" d=\"M 431.896545 293.76 \r\nL 435.143091 293.76 \r\nL 435.143091 293.76 \r\nL 431.896545 293.76 \r\nz\r\n\" style=\"fill:#1f77b4;opacity:0.4;\"/>\r\n   </g>\r\n   <g id=\"patch_85\">\r\n    <path clip-path=\"url(#p518b93f1da)\" d=\"M 435.143091 293.76 \r\nL 438.389636 293.76 \r\nL 438.389636 293.377723 \r\nL 435.143091 293.377723 \r\nz\r\n\" style=\"fill:#1f77b4;opacity:0.4;\"/>\r\n   </g>\r\n   <g id=\"patch_86\">\r\n    <path clip-path=\"url(#p518b93f1da)\" d=\"M 438.389636 293.76 \r\nL 441.636182 293.76 \r\nL 441.636182 293.76 \r\nL 438.389636 293.76 \r\nz\r\n\" style=\"fill:#1f77b4;opacity:0.4;\"/>\r\n   </g>\r\n   <g id=\"patch_87\">\r\n    <path clip-path=\"url(#p518b93f1da)\" d=\"M 441.636182 293.76 \r\nL 444.882727 293.76 \r\nL 444.882727 293.597617 \r\nL 441.636182 293.597617 \r\nz\r\n\" style=\"fill:#1f77b4;opacity:0.4;\"/>\r\n   </g>\r\n   <g id=\"patch_88\">\r\n    <path clip-path=\"url(#p518b93f1da)\" d=\"M 444.882727 293.76 \r\nL 448.129273 293.76 \r\nL 448.129273 293.76 \r\nL 444.882727 293.76 \r\nz\r\n\" style=\"fill:#1f77b4;opacity:0.4;\"/>\r\n   </g>\r\n   <g id=\"patch_89\">\r\n    <path clip-path=\"url(#p518b93f1da)\" d=\"M 448.129273 293.76 \r\nL 451.375818 293.76 \r\nL 451.375818 293.695723 \r\nL 448.129273 293.695723 \r\nz\r\n\" style=\"fill:#1f77b4;opacity:0.4;\"/>\r\n   </g>\r\n   <g id=\"patch_90\">\r\n    <path clip-path=\"url(#p518b93f1da)\" d=\"M 451.375818 293.76 \r\nL 454.622364 293.76 \r\nL 454.622364 293.678808 \r\nL 451.375818 293.678808 \r\nz\r\n\" style=\"fill:#1f77b4;opacity:0.4;\"/>\r\n   </g>\r\n   <g id=\"patch_91\">\r\n    <path clip-path=\"url(#p518b93f1da)\" d=\"M 454.622364 293.76 \r\nL 457.868909 293.76 \r\nL 457.868909 293.722787 \r\nL 454.622364 293.722787 \r\nz\r\n\" style=\"fill:#1f77b4;opacity:0.4;\"/>\r\n   </g>\r\n   <g id=\"patch_92\">\r\n    <path clip-path=\"url(#p518b93f1da)\" d=\"M 457.868909 293.76 \r\nL 461.115455 293.76 \r\nL 461.115455 293.76 \r\nL 457.868909 293.76 \r\nz\r\n\" style=\"fill:#1f77b4;opacity:0.4;\"/>\r\n   </g>\r\n   <g id=\"patch_93\">\r\n    <path clip-path=\"url(#p518b93f1da)\" d=\"M 461.115455 293.76 \r\nL 464.362 293.76 \r\nL 464.362 293.729553 \r\nL 461.115455 293.729553 \r\nz\r\n\" style=\"fill:#1f77b4;opacity:0.4;\"/>\r\n   </g>\r\n   <g id=\"patch_94\">\r\n    <path clip-path=\"url(#p518b93f1da)\" d=\"M 464.362 293.76 \r\nL 467.608545 293.76 \r\nL 467.608545 293.753234 \r\nL 464.362 293.753234 \r\nz\r\n\" style=\"fill:#1f77b4;opacity:0.4;\"/>\r\n   </g>\r\n   <g id=\"patch_95\">\r\n    <path clip-path=\"url(#p518b93f1da)\" d=\"M 467.608545 293.76 \r\nL 470.855091 293.76 \r\nL 470.855091 293.749851 \r\nL 467.608545 293.749851 \r\nz\r\n\" style=\"fill:#1f77b4;opacity:0.4;\"/>\r\n   </g>\r\n   <g id=\"patch_96\">\r\n    <path clip-path=\"url(#p518b93f1da)\" d=\"M 470.855091 293.76 \r\nL 474.101636 293.76 \r\nL 474.101636 293.753234 \r\nL 470.855091 293.753234 \r\nz\r\n\" style=\"fill:#1f77b4;opacity:0.4;\"/>\r\n   </g>\r\n   <g id=\"patch_97\">\r\n    <path clip-path=\"url(#p518b93f1da)\" d=\"M 474.101636 293.76 \r\nL 477.348182 293.76 \r\nL 477.348182 293.756617 \r\nL 474.101636 293.756617 \r\nz\r\n\" style=\"fill:#1f77b4;opacity:0.4;\"/>\r\n   </g>\r\n   <g id=\"patch_98\">\r\n    <path clip-path=\"url(#p518b93f1da)\" d=\"M 477.348182 293.76 \r\nL 480.594727 293.76 \r\nL 480.594727 293.753234 \r\nL 477.348182 293.753234 \r\nz\r\n\" style=\"fill:#1f77b4;opacity:0.4;\"/>\r\n   </g>\r\n   <g id=\"patch_99\">\r\n    <path clip-path=\"url(#p518b93f1da)\" d=\"M 480.594727 293.76 \r\nL 483.841273 293.76 \r\nL 483.841273 293.76 \r\nL 480.594727 293.76 \r\nz\r\n\" style=\"fill:#1f77b4;opacity:0.4;\"/>\r\n   </g>\r\n   <g id=\"patch_100\">\r\n    <path clip-path=\"url(#p518b93f1da)\" d=\"M 483.841273 293.76 \r\nL 487.087818 293.76 \r\nL 487.087818 293.756617 \r\nL 483.841273 293.756617 \r\nz\r\n\" style=\"fill:#1f77b4;opacity:0.4;\"/>\r\n   </g>\r\n   <g id=\"patch_101\">\r\n    <path clip-path=\"url(#p518b93f1da)\" d=\"M 487.087818 293.76 \r\nL 490.334364 293.76 \r\nL 490.334364 293.76 \r\nL 487.087818 293.76 \r\nz\r\n\" style=\"fill:#1f77b4;opacity:0.4;\"/>\r\n   </g>\r\n   <g id=\"patch_102\">\r\n    <path clip-path=\"url(#p518b93f1da)\" d=\"M 490.334364 293.76 \r\nL 493.580909 293.76 \r\nL 493.580909 293.756617 \r\nL 490.334364 293.756617 \r\nz\r\n\" style=\"fill:#1f77b4;opacity:0.4;\"/>\r\n   </g>\r\n   <g id=\"patch_103\">\r\n    <path clip-path=\"url(#p518b93f1da)\" d=\"M 493.580909 293.76 \r\nL 496.827455 293.76 \r\nL 496.827455 293.756617 \r\nL 493.580909 293.756617 \r\nz\r\n\" style=\"fill:#1f77b4;opacity:0.4;\"/>\r\n   </g>\r\n   <g id=\"patch_104\">\r\n    <path clip-path=\"url(#p518b93f1da)\" d=\"M 496.827455 293.76 \r\nL 500.074 293.76 \r\nL 500.074 293.76 \r\nL 496.827455 293.76 \r\nz\r\n\" style=\"fill:#1f77b4;opacity:0.4;\"/>\r\n   </g>\r\n   <g id=\"patch_105\">\r\n    <path clip-path=\"url(#p518b93f1da)\" d=\"M 500.074 293.76 \r\nL 503.320545 293.76 \r\nL 503.320545 293.76 \r\nL 500.074 293.76 \r\nz\r\n\" style=\"fill:#1f77b4;opacity:0.4;\"/>\r\n   </g>\r\n   <g id=\"patch_106\">\r\n    <path clip-path=\"url(#p518b93f1da)\" d=\"M 503.320545 293.76 \r\nL 506.567091 293.76 \r\nL 506.567091 293.76 \r\nL 503.320545 293.76 \r\nz\r\n\" style=\"fill:#1f77b4;opacity:0.4;\"/>\r\n   </g>\r\n   <g id=\"patch_107\">\r\n    <path clip-path=\"url(#p518b93f1da)\" d=\"M 506.567091 293.76 \r\nL 509.813636 293.76 \r\nL 509.813636 293.756617 \r\nL 506.567091 293.756617 \r\nz\r\n\" style=\"fill:#1f77b4;opacity:0.4;\"/>\r\n   </g>\r\n   <g id=\"matplotlib.axis_3\">\r\n    <g id=\"xtick_5\">\r\n     <g id=\"line2d_13\">\r\n      <g>\r\n       <use style=\"stroke:#000000;stroke-width:0.8;\" x=\"347.486364\" xlink:href=\"#m1ef58ae571\" y=\"293.76\"/>\r\n      </g>\r\n     </g>\r\n     <g id=\"text_13\">\r\n      <!-- 0 -->\r\n      <g transform=\"translate(344.305114 308.358438)scale(0.1 -0.1)\">\r\n       <use xlink:href=\"#DejaVuSans-48\"/>\r\n      </g>\r\n     </g>\r\n    </g>\r\n    <g id=\"xtick_6\">\r\n     <g id=\"line2d_14\">\r\n      <g>\r\n       <use style=\"stroke:#000000;stroke-width:0.8;\" x=\"393.518887\" xlink:href=\"#m1ef58ae571\" y=\"293.76\"/>\r\n      </g>\r\n     </g>\r\n     <g id=\"text_14\">\r\n      <!-- 1 -->\r\n      <g transform=\"translate(390.337637 308.358438)scale(0.1 -0.1)\">\r\n       <use xlink:href=\"#DejaVuSans-49\"/>\r\n      </g>\r\n     </g>\r\n    </g>\r\n    <g id=\"xtick_7\">\r\n     <g id=\"line2d_15\">\r\n      <g>\r\n       <use style=\"stroke:#000000;stroke-width:0.8;\" x=\"439.55141\" xlink:href=\"#m1ef58ae571\" y=\"293.76\"/>\r\n      </g>\r\n     </g>\r\n     <g id=\"text_15\">\r\n      <!-- 2 -->\r\n      <g transform=\"translate(436.37016 308.358438)scale(0.1 -0.1)\">\r\n       <use xlink:href=\"#DejaVuSans-50\"/>\r\n      </g>\r\n     </g>\r\n    </g>\r\n    <g id=\"xtick_8\">\r\n     <g id=\"line2d_16\">\r\n      <g>\r\n       <use style=\"stroke:#000000;stroke-width:0.8;\" x=\"485.583933\" xlink:href=\"#m1ef58ae571\" y=\"293.76\"/>\r\n      </g>\r\n     </g>\r\n     <g id=\"text_16\">\r\n      <!-- 3 -->\r\n      <g transform=\"translate(482.402683 308.358438)scale(0.1 -0.1)\">\r\n       <use xlink:href=\"#DejaVuSans-51\"/>\r\n      </g>\r\n     </g>\r\n    </g>\r\n   </g>\r\n   <g id=\"matplotlib.axis_4\">\r\n    <g id=\"ytick_8\">\r\n     <g id=\"line2d_17\">\r\n      <g>\r\n       <use style=\"stroke:#000000;stroke-width:0.8;\" x=\"339.37\" xlink:href=\"#m3b49294a06\" y=\"293.76\"/>\r\n      </g>\r\n     </g>\r\n     <g id=\"text_17\">\r\n      <!-- 0 -->\r\n      <g transform=\"translate(326.0075 297.559219)scale(0.1 -0.1)\">\r\n       <use xlink:href=\"#DejaVuSans-48\"/>\r\n      </g>\r\n     </g>\r\n    </g>\r\n    <g id=\"ytick_9\">\r\n     <g id=\"line2d_18\">\r\n      <g>\r\n       <use style=\"stroke:#000000;stroke-width:0.8;\" x=\"339.37\" xlink:href=\"#m3b49294a06\" y=\"258.544281\"/>\r\n      </g>\r\n     </g>\r\n     <g id=\"text_18\">\r\n      <!-- 2 -->\r\n      <g transform=\"translate(326.0075 262.3435)scale(0.1 -0.1)\">\r\n       <use xlink:href=\"#DejaVuSans-50\"/>\r\n      </g>\r\n     </g>\r\n    </g>\r\n    <g id=\"ytick_10\">\r\n     <g id=\"line2d_19\">\r\n      <g>\r\n       <use style=\"stroke:#000000;stroke-width:0.8;\" x=\"339.37\" xlink:href=\"#m3b49294a06\" y=\"223.328562\"/>\r\n      </g>\r\n     </g>\r\n     <g id=\"text_19\">\r\n      <!-- 4 -->\r\n      <g transform=\"translate(326.0075 227.127781)scale(0.1 -0.1)\">\r\n       <use xlink:href=\"#DejaVuSans-52\"/>\r\n      </g>\r\n     </g>\r\n    </g>\r\n    <g id=\"ytick_11\">\r\n     <g id=\"line2d_20\">\r\n      <g>\r\n       <use style=\"stroke:#000000;stroke-width:0.8;\" x=\"339.37\" xlink:href=\"#m3b49294a06\" y=\"188.112843\"/>\r\n      </g>\r\n     </g>\r\n     <g id=\"text_20\">\r\n      <!-- 6 -->\r\n      <g transform=\"translate(326.0075 191.912062)scale(0.1 -0.1)\">\r\n       <use xlink:href=\"#DejaVuSans-54\"/>\r\n      </g>\r\n     </g>\r\n    </g>\r\n    <g id=\"ytick_12\">\r\n     <g id=\"line2d_21\">\r\n      <g>\r\n       <use style=\"stroke:#000000;stroke-width:0.8;\" x=\"339.37\" xlink:href=\"#m3b49294a06\" y=\"152.897124\"/>\r\n      </g>\r\n     </g>\r\n     <g id=\"text_21\">\r\n      <!-- 8 -->\r\n      <g transform=\"translate(326.0075 156.696342)scale(0.1 -0.1)\">\r\n       <use xlink:href=\"#DejaVuSans-56\"/>\r\n      </g>\r\n     </g>\r\n    </g>\r\n    <g id=\"ytick_13\">\r\n     <g id=\"line2d_22\">\r\n      <g>\r\n       <use style=\"stroke:#000000;stroke-width:0.8;\" x=\"339.37\" xlink:href=\"#m3b49294a06\" y=\"117.681405\"/>\r\n      </g>\r\n     </g>\r\n     <g id=\"text_22\">\r\n      <!-- 10 -->\r\n      <g transform=\"translate(319.645 121.480623)scale(0.1 -0.1)\">\r\n       <use xlink:href=\"#DejaVuSans-49\"/>\r\n       <use x=\"63.623047\" xlink:href=\"#DejaVuSans-48\"/>\r\n      </g>\r\n     </g>\r\n    </g>\r\n    <g id=\"ytick_14\">\r\n     <g id=\"line2d_23\">\r\n      <g>\r\n       <use style=\"stroke:#000000;stroke-width:0.8;\" x=\"339.37\" xlink:href=\"#m3b49294a06\" y=\"82.465686\"/>\r\n      </g>\r\n     </g>\r\n     <g id=\"text_23\">\r\n      <!-- 12 -->\r\n      <g transform=\"translate(319.645 86.264904)scale(0.1 -0.1)\">\r\n       <use xlink:href=\"#DejaVuSans-49\"/>\r\n       <use x=\"63.623047\" xlink:href=\"#DejaVuSans-50\"/>\r\n      </g>\r\n     </g>\r\n    </g>\r\n   </g>\r\n   <g id=\"line2d_24\"/>\r\n   <g id=\"patch_108\">\r\n    <path d=\"M 339.37 293.76 \r\nL 339.37 76.32 \r\n\" style=\"fill:none;stroke:#000000;stroke-linecap:square;stroke-linejoin:miter;stroke-width:0.8;\"/>\r\n   </g>\r\n   <g id=\"patch_109\">\r\n    <path d=\"M 517.93 293.76 \r\nL 517.93 76.32 \r\n\" style=\"fill:none;stroke:#000000;stroke-linecap:square;stroke-linejoin:miter;stroke-width:0.8;\"/>\r\n   </g>\r\n   <g id=\"patch_110\">\r\n    <path d=\"M 339.37 293.76 \r\nL 517.93 293.76 \r\n\" style=\"fill:none;stroke:#000000;stroke-linecap:square;stroke-linejoin:miter;stroke-width:0.8;\"/>\r\n   </g>\r\n   <g id=\"patch_111\">\r\n    <path d=\"M 339.37 76.32 \r\nL 517.93 76.32 \r\n\" style=\"fill:none;stroke:#000000;stroke-linecap:square;stroke-linejoin:miter;stroke-width:0.8;\"/>\r\n   </g>\r\n   <g id=\"text_24\">\r\n    <!-- np.log(decline_app_cnt) -->\r\n    <defs>\r\n     <path d=\"M 30.609375 48.390625 \r\nQ 23.390625 48.390625 19.1875 42.75 \r\nQ 14.984375 37.109375 14.984375 27.296875 \r\nQ 14.984375 17.484375 19.15625 11.84375 \r\nQ 23.34375 6.203125 30.609375 6.203125 \r\nQ 37.796875 6.203125 41.984375 11.859375 \r\nQ 46.1875 17.53125 46.1875 27.296875 \r\nQ 46.1875 37.015625 41.984375 42.703125 \r\nQ 37.796875 48.390625 30.609375 48.390625 \r\nz\r\nM 30.609375 56 \r\nQ 42.328125 56 49.015625 48.375 \r\nQ 55.71875 40.765625 55.71875 27.296875 \r\nQ 55.71875 13.875 49.015625 6.21875 \r\nQ 42.328125 -1.421875 30.609375 -1.421875 \r\nQ 18.84375 -1.421875 12.171875 6.21875 \r\nQ 5.515625 13.875 5.515625 27.296875 \r\nQ 5.515625 40.765625 12.171875 48.375 \r\nQ 18.84375 56 30.609375 56 \r\nz\r\n\" id=\"DejaVuSans-111\"/>\r\n     <path d=\"M 45.40625 27.984375 \r\nQ 45.40625 37.75 41.375 43.109375 \r\nQ 37.359375 48.484375 30.078125 48.484375 \r\nQ 22.859375 48.484375 18.828125 43.109375 \r\nQ 14.796875 37.75 14.796875 27.984375 \r\nQ 14.796875 18.265625 18.828125 12.890625 \r\nQ 22.859375 7.515625 30.078125 7.515625 \r\nQ 37.359375 7.515625 41.375 12.890625 \r\nQ 45.40625 18.265625 45.40625 27.984375 \r\nz\r\nM 54.390625 6.78125 \r\nQ 54.390625 -7.171875 48.1875 -13.984375 \r\nQ 42 -20.796875 29.203125 -20.796875 \r\nQ 24.46875 -20.796875 20.265625 -20.09375 \r\nQ 16.0625 -19.390625 12.109375 -17.921875 \r\nL 12.109375 -9.1875 \r\nQ 16.0625 -11.328125 19.921875 -12.34375 \r\nQ 23.78125 -13.375 27.78125 -13.375 \r\nQ 36.625 -13.375 41.015625 -8.765625 \r\nQ 45.40625 -4.15625 45.40625 5.171875 \r\nL 45.40625 9.625 \r\nQ 42.625 4.78125 38.28125 2.390625 \r\nQ 33.9375 0 27.875 0 \r\nQ 17.828125 0 11.671875 7.65625 \r\nQ 5.515625 15.328125 5.515625 27.984375 \r\nQ 5.515625 40.671875 11.671875 48.328125 \r\nQ 17.828125 56 27.875 56 \r\nQ 33.9375 56 38.28125 53.609375 \r\nQ 42.625 51.21875 45.40625 46.390625 \r\nL 45.40625 54.6875 \r\nL 54.390625 54.6875 \r\nz\r\n\" id=\"DejaVuSans-103\"/>\r\n     <path d=\"M 31 75.875 \r\nQ 24.46875 64.65625 21.28125 53.65625 \r\nQ 18.109375 42.671875 18.109375 31.390625 \r\nQ 18.109375 20.125 21.3125 9.0625 \r\nQ 24.515625 -2 31 -13.1875 \r\nL 23.1875 -13.1875 \r\nQ 15.875 -1.703125 12.234375 9.375 \r\nQ 8.59375 20.453125 8.59375 31.390625 \r\nQ 8.59375 42.28125 12.203125 53.3125 \r\nQ 15.828125 64.359375 23.1875 75.875 \r\nz\r\n\" id=\"DejaVuSans-40\"/>\r\n     <path d=\"M 8.015625 75.875 \r\nL 15.828125 75.875 \r\nQ 23.140625 64.359375 26.78125 53.3125 \r\nQ 30.421875 42.28125 30.421875 31.390625 \r\nQ 30.421875 20.453125 26.78125 9.375 \r\nQ 23.140625 -1.703125 15.828125 -13.1875 \r\nL 8.015625 -13.1875 \r\nQ 14.5 -2 17.703125 9.0625 \r\nQ 20.90625 20.125 20.90625 31.390625 \r\nQ 20.90625 42.671875 17.703125 53.65625 \r\nQ 14.5 64.65625 8.015625 75.875 \r\nz\r\n\" id=\"DejaVuSans-41\"/>\r\n    </defs>\r\n    <g transform=\"translate(356.925625 70.32)scale(0.12 -0.12)\">\r\n     <use xlink:href=\"#DejaVuSans-110\"/>\r\n     <use x=\"63.378906\" xlink:href=\"#DejaVuSans-112\"/>\r\n     <use x=\"126.855469\" xlink:href=\"#DejaVuSans-46\"/>\r\n     <use x=\"158.642578\" xlink:href=\"#DejaVuSans-108\"/>\r\n     <use x=\"186.425781\" xlink:href=\"#DejaVuSans-111\"/>\r\n     <use x=\"247.607422\" xlink:href=\"#DejaVuSans-103\"/>\r\n     <use x=\"311.083984\" xlink:href=\"#DejaVuSans-40\"/>\r\n     <use x=\"350.097656\" xlink:href=\"#DejaVuSans-100\"/>\r\n     <use x=\"413.574219\" xlink:href=\"#DejaVuSans-101\"/>\r\n     <use x=\"475.097656\" xlink:href=\"#DejaVuSans-99\"/>\r\n     <use x=\"530.078125\" xlink:href=\"#DejaVuSans-108\"/>\r\n     <use x=\"557.861328\" xlink:href=\"#DejaVuSans-105\"/>\r\n     <use x=\"585.644531\" xlink:href=\"#DejaVuSans-110\"/>\r\n     <use x=\"649.023438\" xlink:href=\"#DejaVuSans-101\"/>\r\n     <use x=\"710.546875\" xlink:href=\"#DejaVuSans-95\"/>\r\n     <use x=\"760.546875\" xlink:href=\"#DejaVuSans-97\"/>\r\n     <use x=\"821.826172\" xlink:href=\"#DejaVuSans-112\"/>\r\n     <use x=\"885.302734\" xlink:href=\"#DejaVuSans-112\"/>\r\n     <use x=\"948.779297\" xlink:href=\"#DejaVuSans-95\"/>\r\n     <use x=\"998.779297\" xlink:href=\"#DejaVuSans-99\"/>\r\n     <use x=\"1053.759766\" xlink:href=\"#DejaVuSans-110\"/>\r\n     <use x=\"1117.138672\" xlink:href=\"#DejaVuSans-116\"/>\r\n     <use x=\"1156.347656\" xlink:href=\"#DejaVuSans-41\"/>\r\n    </g>\r\n   </g>\r\n  </g>\r\n  <g id=\"text_25\">\r\n   <!-- Распределение признака decline_app_cnt и np.log(decline_app_cnt) -->\r\n   <defs>\r\n    <path d=\"M 19.671875 64.796875 \r\nL 19.671875 37.40625 \r\nL 32.078125 37.40625 \r\nQ 38.96875 37.40625 42.71875 40.96875 \r\nQ 46.484375 44.53125 46.484375 51.125 \r\nQ 46.484375 57.671875 42.71875 61.234375 \r\nQ 38.96875 64.796875 32.078125 64.796875 \r\nz\r\nM 9.8125 72.90625 \r\nL 32.078125 72.90625 \r\nQ 44.34375 72.90625 50.609375 67.359375 \r\nQ 56.890625 61.8125 56.890625 51.125 \r\nQ 56.890625 40.328125 50.609375 34.8125 \r\nQ 44.34375 29.296875 32.078125 29.296875 \r\nL 19.671875 29.296875 \r\nL 19.671875 0 \r\nL 9.8125 0 \r\nz\r\n\" id=\"DejaVuSans-1056\"/>\r\n    <path d=\"M 34.28125 27.484375 \r\nQ 23.390625 27.484375 19.1875 25 \r\nQ 14.984375 22.515625 14.984375 16.5 \r\nQ 14.984375 11.71875 18.140625 8.90625 \r\nQ 21.296875 6.109375 26.703125 6.109375 \r\nQ 34.1875 6.109375 38.703125 11.40625 \r\nQ 43.21875 16.703125 43.21875 25.484375 \r\nL 43.21875 27.484375 \r\nz\r\nM 52.203125 31.203125 \r\nL 52.203125 0 \r\nL 43.21875 0 \r\nL 43.21875 8.296875 \r\nQ 40.140625 3.328125 35.546875 0.953125 \r\nQ 30.953125 -1.421875 24.3125 -1.421875 \r\nQ 15.921875 -1.421875 10.953125 3.296875 \r\nQ 6 8.015625 6 15.921875 \r\nQ 6 25.140625 12.171875 29.828125 \r\nQ 18.359375 34.515625 30.609375 34.515625 \r\nL 43.21875 34.515625 \r\nL 43.21875 35.40625 \r\nQ 43.21875 41.609375 39.140625 45 \r\nQ 35.0625 48.390625 27.6875 48.390625 \r\nQ 23 48.390625 18.546875 47.265625 \r\nQ 14.109375 46.140625 10.015625 43.890625 \r\nL 10.015625 52.203125 \r\nQ 14.9375 54.109375 19.578125 55.046875 \r\nQ 24.21875 56 28.609375 56 \r\nQ 40.484375 56 46.34375 49.84375 \r\nQ 52.203125 43.703125 52.203125 31.203125 \r\nz\r\n\" id=\"DejaVuSans-1072\"/>\r\n    <path d=\"M 48.78125 52.59375 \r\nL 48.78125 44.1875 \r\nQ 44.96875 46.296875 41.140625 47.34375 \r\nQ 37.3125 48.390625 33.40625 48.390625 \r\nQ 24.65625 48.390625 19.8125 42.84375 \r\nQ 14.984375 37.3125 14.984375 27.296875 \r\nQ 14.984375 17.28125 19.8125 11.734375 \r\nQ 24.65625 6.203125 33.40625 6.203125 \r\nQ 37.3125 6.203125 41.140625 7.25 \r\nQ 44.96875 8.296875 48.78125 10.40625 \r\nL 48.78125 2.09375 \r\nQ 45.015625 0.34375 40.984375 -0.53125 \r\nQ 36.96875 -1.421875 32.421875 -1.421875 \r\nQ 20.0625 -1.421875 12.78125 6.34375 \r\nQ 5.515625 14.109375 5.515625 27.296875 \r\nQ 5.515625 40.671875 12.859375 48.328125 \r\nQ 20.21875 56 33.015625 56 \r\nQ 37.15625 56 41.109375 55.140625 \r\nQ 45.0625 54.296875 48.78125 52.59375 \r\nz\r\n\" id=\"DejaVuSans-1089\"/>\r\n    <path d=\"M 56.296875 54.6875 \r\nL 56.296875 0 \r\nL 47.265625 0 \r\nL 47.265625 47.515625 \r\nL 18.109375 47.515625 \r\nL 18.109375 0 \r\nL 9.078125 0 \r\nL 9.078125 54.6875 \r\nz\r\n\" id=\"DejaVuSans-1087\"/>\r\n    <path d=\"M 18.109375 8.203125 \r\nL 18.109375 -20.796875 \r\nL 9.078125 -20.796875 \r\nL 9.078125 54.6875 \r\nL 18.109375 54.6875 \r\nL 18.109375 46.390625 \r\nQ 20.953125 51.265625 25.265625 53.625 \r\nQ 29.59375 56 35.59375 56 \r\nQ 45.5625 56 51.78125 48.09375 \r\nQ 58.015625 40.1875 58.015625 27.296875 \r\nQ 58.015625 14.40625 51.78125 6.484375 \r\nQ 45.5625 -1.421875 35.59375 -1.421875 \r\nQ 29.59375 -1.421875 25.265625 0.953125 \r\nQ 20.953125 3.328125 18.109375 8.203125 \r\nz\r\nM 48.6875 27.296875 \r\nQ 48.6875 37.203125 44.609375 42.84375 \r\nQ 40.53125 48.484375 33.40625 48.484375 \r\nQ 26.265625 48.484375 22.1875 42.84375 \r\nQ 18.109375 37.203125 18.109375 27.296875 \r\nQ 18.109375 17.390625 22.1875 11.75 \r\nQ 26.265625 6.109375 33.40625 6.109375 \r\nQ 40.53125 6.109375 44.609375 11.75 \r\nQ 48.6875 17.390625 48.6875 27.296875 \r\nz\r\n\" id=\"DejaVuSans-1088\"/>\r\n    <path d=\"M 56.203125 29.59375 \r\nL 56.203125 25.203125 \r\nL 14.890625 25.203125 \r\nQ 15.484375 15.921875 20.484375 11.0625 \r\nQ 25.484375 6.203125 34.421875 6.203125 \r\nQ 39.59375 6.203125 44.453125 7.46875 \r\nQ 49.3125 8.734375 54.109375 11.28125 \r\nL 54.109375 2.78125 \r\nQ 49.265625 0.734375 44.1875 -0.34375 \r\nQ 39.109375 -1.421875 33.890625 -1.421875 \r\nQ 20.796875 -1.421875 13.15625 6.1875 \r\nQ 5.515625 13.8125 5.515625 26.8125 \r\nQ 5.515625 40.234375 12.765625 48.109375 \r\nQ 20.015625 56 32.328125 56 \r\nQ 43.359375 56 49.78125 48.890625 \r\nQ 56.203125 41.796875 56.203125 29.59375 \r\nz\r\nM 47.21875 32.234375 \r\nQ 47.125 39.59375 43.09375 43.984375 \r\nQ 39.0625 48.390625 32.421875 48.390625 \r\nQ 24.90625 48.390625 20.390625 44.140625 \r\nQ 15.875 39.890625 15.1875 32.171875 \r\nz\r\n\" id=\"DejaVuSans-1077\"/>\r\n    <path d=\"M 21.625 7.171875 \r\nL 47.703125 7.171875 \r\nL 47.703125 47.515625 \r\nL 28.8125 47.515625 \r\nL 28.8125 40.671875 \r\nQ 28.8125 20.5625 23.046875 9.8125 \r\nz\r\nM 8.59375 7.171875 \r\nQ 13.03125 9.125 14.984375 13.28125 \r\nQ 19.78125 23.578125 19.78125 44.34375 \r\nL 19.78125 54.6875 \r\nL 56.734375 54.6875 \r\nL 56.734375 7.171875 \r\nL 63.921875 7.171875 \r\nL 63.921875 -13.8125 \r\nL 56.734375 -13.8125 \r\nL 56.734375 0 \r\nL 12.40625 0 \r\nL 12.40625 -13.8125 \r\nL 5.21875 -13.8125 \r\nL 5.21875 7.171875 \r\nz\r\n\" id=\"DejaVuSans-1076\"/>\r\n    <path d=\"M 3.71875 0 \r\nL 3.71875 7.46875 \r\nQ 12.59375 8.84375 15.328125 14.984375 \r\nQ 18.65625 23.640625 18.65625 45.75 \r\nL 18.65625 54.6875 \r\nL 55.609375 54.6875 \r\nL 55.609375 0 \r\nL 46.625 0 \r\nL 46.625 47.515625 \r\nL 27.640625 47.515625 \r\nL 27.640625 42.09375 \r\nQ 27.640625 21 23.34375 11.53125 \r\nQ 18.75 1.421875 3.71875 0 \r\nz\r\n\" id=\"DejaVuSans-1083\"/>\r\n    <path d=\"M 9.078125 54.6875 \r\nL 18.109375 54.6875 \r\nL 18.109375 32.375 \r\nL 47.265625 32.375 \r\nL 47.265625 54.6875 \r\nL 56.296875 54.6875 \r\nL 56.296875 0 \r\nL 47.265625 0 \r\nL 47.265625 25.203125 \r\nL 18.109375 25.203125 \r\nL 18.109375 0 \r\nL 9.078125 0 \r\nz\r\n\" id=\"DejaVuSans-1085\"/>\r\n    <path d=\"M 55.90625 54.6875 \r\nL 55.90625 0 \r\nL 46.96875 0 \r\nL 46.96875 43.890625 \r\nL 20.609375 0 \r\nL 9.078125 0 \r\nL 9.078125 54.6875 \r\nL 18.015625 54.6875 \r\nL 18.015625 10.890625 \r\nL 44.34375 54.6875 \r\nz\r\n\" id=\"DejaVuSans-1080\"/>\r\n    <path id=\"DejaVuSans-32\"/>\r\n    <path d=\"M 34.46875 29.5 \r\nQ 40.53125 28.328125 43.890625 24.75 \r\nQ 47.265625 21.1875 47.265625 15.921875 \r\nQ 47.265625 7.46875 40.96875 3.015625 \r\nQ 34.671875 -1.421875 23.046875 -1.421875 \r\nQ 19.140625 -1.421875 15.015625 -0.734375 \r\nQ 10.890625 -0.046875 6.5 1.3125 \r\nL 6.5 9.671875 \r\nQ 9.96875 7.859375 14.109375 6.953125 \r\nQ 18.265625 6.0625 22.796875 6.0625 \r\nQ 30.171875 6.0625 34.296875 8.796875 \r\nQ 38.421875 11.53125 38.421875 15.921875 \r\nQ 38.421875 20.21875 34.765625 22.828125 \r\nQ 31.109375 25.4375 24.421875 25.4375 \r\nL 17.1875 25.4375 \r\nL 17.1875 32.859375 \r\nL 24.75 32.859375 \r\nQ 30.421875 32.859375 33.71875 35.03125 \r\nQ 37.015625 37.203125 37.015625 40.625 \r\nQ 37.015625 43.75 33.609375 46 \r\nQ 30.21875 48.25 24.421875 48.25 \r\nQ 20.953125 48.25 17.015625 47.609375 \r\nQ 13.09375 46.96875 8.34375 45.5625 \r\nL 8.34375 53.71875 \r\nQ 13.140625 54.890625 17.28125 55.46875 \r\nQ 21.4375 56.0625 25.140625 56.0625 \r\nQ 34.71875 56.0625 40.25 52.21875 \r\nQ 45.796875 48.390625 45.796875 41.5 \r\nQ 45.796875 36.96875 42.859375 33.8125 \r\nQ 39.9375 30.671875 34.46875 29.5 \r\nz\r\n\" id=\"DejaVuSans-1079\"/>\r\n    <path d=\"M 9.078125 54.6875 \r\nL 18.015625 54.6875 \r\nL 18.015625 29 \r\nL 43.359375 54.6875 \r\nL 54.390625 54.6875 \r\nL 33.5 33.546875 \r\nL 57.078125 0 \r\nL 47.015625 0 \r\nL 27.640625 27.59375 \r\nL 18.015625 17.828125 \r\nL 18.015625 0 \r\nL 9.078125 0 \r\nz\r\n\" id=\"DejaVuSans-1082\"/>\r\n   </defs>\r\n   <g transform=\"translate(7.2 19.3575)scale(0.16 -0.16)\">\r\n    <use xlink:href=\"#DejaVuSans-1056\"/>\r\n    <use x=\"60.302734\" xlink:href=\"#DejaVuSans-1072\"/>\r\n    <use x=\"121.582031\" xlink:href=\"#DejaVuSans-1089\"/>\r\n    <use x=\"176.5625\" xlink:href=\"#DejaVuSans-1087\"/>\r\n    <use x=\"241.943359\" xlink:href=\"#DejaVuSans-1088\"/>\r\n    <use x=\"305.419922\" xlink:href=\"#DejaVuSans-1077\"/>\r\n    <use x=\"366.943359\" xlink:href=\"#DejaVuSans-1076\"/>\r\n    <use x=\"436.083984\" xlink:href=\"#DejaVuSans-1077\"/>\r\n    <use x=\"497.607422\" xlink:href=\"#DejaVuSans-1083\"/>\r\n    <use x=\"561.523438\" xlink:href=\"#DejaVuSans-1077\"/>\r\n    <use x=\"623.046875\" xlink:href=\"#DejaVuSans-1085\"/>\r\n    <use x=\"688.427734\" xlink:href=\"#DejaVuSans-1080\"/>\r\n    <use x=\"753.417969\" xlink:href=\"#DejaVuSans-1077\"/>\r\n    <use x=\"814.941406\" xlink:href=\"#DejaVuSans-32\"/>\r\n    <use x=\"846.728516\" xlink:href=\"#DejaVuSans-1087\"/>\r\n    <use x=\"912.109375\" xlink:href=\"#DejaVuSans-1088\"/>\r\n    <use x=\"975.585938\" xlink:href=\"#DejaVuSans-1080\"/>\r\n    <use x=\"1040.576172\" xlink:href=\"#DejaVuSans-1079\"/>\r\n    <use x=\"1093.75\" xlink:href=\"#DejaVuSans-1085\"/>\r\n    <use x=\"1159.130859\" xlink:href=\"#DejaVuSans-1072\"/>\r\n    <use x=\"1220.410156\" xlink:href=\"#DejaVuSans-1082\"/>\r\n    <use x=\"1280.810547\" xlink:href=\"#DejaVuSans-1072\"/>\r\n    <use x=\"1342.089844\" xlink:href=\"#DejaVuSans-32\"/>\r\n    <use x=\"1373.876953\" xlink:href=\"#DejaVuSans-100\"/>\r\n    <use x=\"1437.353516\" xlink:href=\"#DejaVuSans-101\"/>\r\n    <use x=\"1498.876953\" xlink:href=\"#DejaVuSans-99\"/>\r\n    <use x=\"1553.857422\" xlink:href=\"#DejaVuSans-108\"/>\r\n    <use x=\"1581.640625\" xlink:href=\"#DejaVuSans-105\"/>\r\n    <use x=\"1609.423828\" xlink:href=\"#DejaVuSans-110\"/>\r\n    <use x=\"1672.802734\" xlink:href=\"#DejaVuSans-101\"/>\r\n    <use x=\"1734.326172\" xlink:href=\"#DejaVuSans-95\"/>\r\n    <use x=\"1784.326172\" xlink:href=\"#DejaVuSans-97\"/>\r\n    <use x=\"1845.605469\" xlink:href=\"#DejaVuSans-112\"/>\r\n    <use x=\"1909.082031\" xlink:href=\"#DejaVuSans-112\"/>\r\n    <use x=\"1972.558594\" xlink:href=\"#DejaVuSans-95\"/>\r\n    <use x=\"2022.558594\" xlink:href=\"#DejaVuSans-99\"/>\r\n    <use x=\"2077.539062\" xlink:href=\"#DejaVuSans-110\"/>\r\n    <use x=\"2140.917969\" xlink:href=\"#DejaVuSans-116\"/>\r\n    <use x=\"2180.126953\" xlink:href=\"#DejaVuSans-32\"/>\r\n    <use x=\"2211.914062\" xlink:href=\"#DejaVuSans-1080\"/>\r\n    <use x=\"2276.904297\" xlink:href=\"#DejaVuSans-32\"/>\r\n    <use x=\"2308.691406\" xlink:href=\"#DejaVuSans-110\"/>\r\n    <use x=\"2372.070312\" xlink:href=\"#DejaVuSans-112\"/>\r\n    <use x=\"2435.546875\" xlink:href=\"#DejaVuSans-46\"/>\r\n    <use x=\"2467.333984\" xlink:href=\"#DejaVuSans-108\"/>\r\n    <use x=\"2495.117188\" xlink:href=\"#DejaVuSans-111\"/>\r\n    <use x=\"2556.298828\" xlink:href=\"#DejaVuSans-103\"/>\r\n    <use x=\"2619.775391\" xlink:href=\"#DejaVuSans-40\"/>\r\n    <use x=\"2658.789062\" xlink:href=\"#DejaVuSans-100\"/>\r\n    <use x=\"2722.265625\" xlink:href=\"#DejaVuSans-101\"/>\r\n    <use x=\"2783.789062\" xlink:href=\"#DejaVuSans-99\"/>\r\n    <use x=\"2838.769531\" xlink:href=\"#DejaVuSans-108\"/>\r\n    <use x=\"2866.552734\" xlink:href=\"#DejaVuSans-105\"/>\r\n    <use x=\"2894.335938\" xlink:href=\"#DejaVuSans-110\"/>\r\n    <use x=\"2957.714844\" xlink:href=\"#DejaVuSans-101\"/>\r\n    <use x=\"3019.238281\" xlink:href=\"#DejaVuSans-95\"/>\r\n    <use x=\"3069.238281\" xlink:href=\"#DejaVuSans-97\"/>\r\n    <use x=\"3130.517578\" xlink:href=\"#DejaVuSans-112\"/>\r\n    <use x=\"3193.994141\" xlink:href=\"#DejaVuSans-112\"/>\r\n    <use x=\"3257.470703\" xlink:href=\"#DejaVuSans-95\"/>\r\n    <use x=\"3307.470703\" xlink:href=\"#DejaVuSans-99\"/>\r\n    <use x=\"3362.451172\" xlink:href=\"#DejaVuSans-110\"/>\r\n    <use x=\"3425.830078\" xlink:href=\"#DejaVuSans-116\"/>\r\n    <use x=\"3465.039062\" xlink:href=\"#DejaVuSans-41\"/>\r\n   </g>\r\n  </g>\r\n </g>\r\n <defs>\r\n  <clipPath id=\"p7b24ffe709\">\r\n   <rect height=\"217.44\" width=\"178.56\" x=\"71.53\" y=\"76.32\"/>\r\n  </clipPath>\r\n  <clipPath id=\"p518b93f1da\">\r\n   <rect height=\"217.44\" width=\"178.56\" x=\"339.37\" y=\"76.32\"/>\r\n  </clipPath>\r\n </defs>\r\n</svg>\r\n",
      "image/png": "[encoded data removed]"
     },
     "metadata": {
      "needs_background": "light"
     }
    }
   ],
   "source": [
    "# Посмотрим на графики распределения переменных\n",
    "from dshelpers.EDA import plot_dist_log\n",
    "\n",
    "plot_dist_log(df, 'decline_app_cnt', figsize=(8,4))"
   ]
  },
  {
   "cell_type": "code",
   "execution_count": 15,
   "metadata": {},
   "outputs": [
    {
     "output_type": "display_data",
     "data": {
      "text/plain": "                 age\ncount   73799.000000\nnan         0.000000\nmin        21.000000\nmax        72.000000\nmedian     37.000000\nmean       39.280641",
      "text/html": "<div>\n<style scoped>\n    .dataframe tbody tr th:only-of-type {\n        vertical-align: middle;\n    }\n\n    .dataframe tbody tr th {\n        vertical-align: top;\n    }\n\n    .dataframe thead th {\n        text-align: right;\n    }\n</style>\n<table border=\"1\" class=\"dataframe\">\n  <thead>\n    <tr style=\"text-align: right;\">\n      <th></th>\n      <th>age</th>\n    </tr>\n  </thead>\n  <tbody>\n    <tr>\n      <th>count</th>\n      <td>73799.000000</td>\n    </tr>\n    <tr>\n      <th>nan</th>\n      <td>0.000000</td>\n    </tr>\n    <tr>\n      <th>min</th>\n      <td>21.000000</td>\n    </tr>\n    <tr>\n      <th>max</th>\n      <td>72.000000</td>\n    </tr>\n    <tr>\n      <th>median</th>\n      <td>37.000000</td>\n    </tr>\n    <tr>\n      <th>mean</th>\n      <td>39.280641</td>\n    </tr>\n  </tbody>\n</table>\n</div>"
     },
     "metadata": {}
    }
   ],
   "source": [
    "# Логарифмируем числовые переменные\n",
    "column = 'age'\n"
   ]
  },
  {
   "cell_type": "code",
   "execution_count": null,
   "metadata": {},
   "outputs": [],
   "source": [
    "for i, feature in enumerate(num_features):\n",
    "    sns.distplot(df[feature], kde = False, rug=False)\n",
    "    plt.title(feature)\n",
    "    plt.show()"
   ]
  },
  {
   "cell_type": "code",
   "execution_count": null,
   "metadata": {},
   "outputs": [],
   "source": [
    "# Построим боксплоты числовых признаков\n",
    "for feature in num_features:\n",
    "    sns.boxplot(x='default', y=feature, data=df)\n",
    "    plt.show()"
   ]
  },
  {
   "cell_type": "code",
   "execution_count": null,
   "metadata": {},
   "outputs": [],
   "source": [
    "# Посмотрим на корреляцию числовых переменных\n",
    "sns.heatmap(df[num_features].corr().abs(), vmin=0, vmax=1, annot=True)"
   ]
  },
  {
   "cell_type": "code",
   "execution_count": null,
   "metadata": {},
   "outputs": [],
   "source": [
    "# Посмотрим на наиболее важные признаки\n",
    "from dshelpers.EDA import plot_fclassif, plot_mutual_info_classif\n",
    "plot_fclassif(df, num_features, 'default')"
   ]
  },
  {
   "cell_type": "code",
   "execution_count": null,
   "metadata": {},
   "outputs": [],
   "source": [
    "# Закодируем бинарные признаки\n",
    "from sklearn.preprocessing import LabelEncoder\n",
    "\n",
    "labelEncoder = LabelEncoder()\n",
    "\n",
    "for feature in binary_features:\n",
    "    df[feature] = labelEncoder.fit_transform(df[feature])\n",
    "\n",
    "df.education = labelEncoder.fit_transform(df.education)\n",
    "\n",
    "plot_mutual_info_classif(df, binary_features+cat_features, 'default')"
   ]
  },
  {
   "source": [
    "# Подготавливаем модель"
   ],
   "cell_type": "markdown",
   "metadata": {}
  },
  {
   "source": [
    "## BaseLine LogisticRegression AUC = 0.680"
   ],
   "cell_type": "markdown",
   "metadata": {}
  },
  {
   "cell_type": "code",
   "execution_count": null,
   "metadata": {},
   "outputs": [],
   "source": [
    "X, y, df = prepare_data(use_fe=True, read_from_file=True)\n",
    "\n",
    "# Разобьем датасет и обучим модеь\n",
    "from sklearn.linear_model import LogisticRegression\n",
    "from sklearn.metrics import classification_report, plot_confusion_matrix, roc_auc_score, roc_curve\n",
    "from sklearn.model_selection import train_test_split\n",
    "\n",
    "X_train, X_test, y_train, y_test = train_test_split(X, y, test_size=0.20, random_state=42)\n",
    "\n",
    "model = LogisticRegression(penalty='l2')\n",
    "model.fit(X_train, y_train)\n",
    "y_pred = model.predict(X_test)\n",
    "\n",
    "print(classification_report(y_test, y_pred))\n",
    "plot_confusion_matrix(model, X_train, y_train, values_format='d')\n",
    "\n",
    "probs = model.predict_proba(X_test)\n",
    "probs = probs[:,1]\n",
    "\n",
    "from dshelpers.METRICS import roc_auc_plot\n",
    "roc_auc_plot(y_test, probs)\n"
   ]
  },
  {
   "cell_type": "code",
   "execution_count": null,
   "metadata": {},
   "outputs": [],
   "source": [
    "from sklearn.linear_model import LogisticRegression\n",
    "from sklearn.metrics import accuracy_score, precision_score, recall_score, f1_score\n",
    "from sklearn.model_selection import GridSearchCV, train_test_split\n",
    "\n",
    "X, y, df = prepare_data(read_from_file=True)\n",
    "X_train, X_test, y_train, y_test = train_test_split(X, y, test_size=0.20, random_state=42)\n",
    "\n",
    "model = LogisticRegression(random_state=42)\n",
    "iter_ = 50\n",
    "epsilon_stop = 1e-3\n",
    "C = np.random.randn(0, 10, 0.1)\n",
    "param_grid = [\n",
    "    {'penalty': ['l1'], \n",
    "     'solver': ['liblinear', 'lbfgs'], \n",
    "     'class_weight':['none', 'balanced'], \n",
    "     'multi_class': ['auto','ovr'], \n",
    "     'max_iter':[iter_],\n",
    "     'tol':[epsilon_stop]},\n",
    "    {'penalty': ['l2'], \n",
    "     'solver': ['newton-cg', 'lbfgs', 'liblinear', 'sag', 'saga'], \n",
    "     'class_weight':['none', 'balanced'], \n",
    "     'multi_class': ['auto','ovr'], \n",
    "     'max_iter':[iter_],\n",
    "     'tol':[epsilon_stop]},\n",
    "    {'penalty': ['none'], \n",
    "     'solver': ['newton-cg', 'lbfgs', 'sag', 'saga'], \n",
    "     'class_weight':['none', 'balanced'], \n",
    "     'multi_class': ['auto','ovr'], \n",
    "     'max_iter':[iter_],\n",
    "     'tol':[epsilon_stop]},\n",
    "]\n",
    "\n",
    "gridsearch = GridSearchCV(model, param_grid, scoring='roc_auc', n_jobs=-1, cv=5)\n",
    "gridsearch.fit(X_train, y_train)\n",
    "model = gridsearch.best_estimator_\n",
    "\n",
    "##печатаем параметры\n",
    "best_parameters = model.get_params()\n",
    "for param_name in sorted(best_parameters.keys()):\n",
    "        print('\\t%s: %r' % (param_name, best_parameters[param_name]))\n",
    "\n",
    "##печатаем метрики\n",
    "preds = model.predict(X_test)\n",
    "print('Accuracy: %.4f' % accuracy_score(y_test, preds))\n",
    "print('Precision: %.4f' % precision_score(y_test, preds))\n",
    "print('Recall: %.4f' % recall_score(y_test, preds))\n",
    "print('F1: %.4f' % f1_score(y_test, preds))"
   ]
  },
  {
   "cell_type": "code",
   "execution_count": null,
   "metadata": {},
   "outputs": [],
   "source": [
    "from dshelpers.METRICS import roc_auc_plot\n",
    "from sklearn.metrics import plot_confusion_matrix\n",
    "roc_auc_plot(y_test, model.predict_proba(X_test)[:, 1])\n",
    "plot_confusion_matrix(model, X_train, y_train, values_format='d')"
   ]
  },
  {
   "cell_type": "code",
   "execution_count": null,
   "metadata": {},
   "outputs": [],
   "source": [
    "# Попробуем обучить модель на Under-sample\n",
    "from sklearn.utils import resample\n",
    "X, y, df = prepare_data(fill_na='mode')\n",
    "\n",
    "zero_class = df[df.default == 0]\n",
    "ones_class = df[df.default == 1]\n",
    "\n",
    "balanced_df = resample(zero_class, n_samples=len(ones_class), replace=True, random_state=42).append(ones_class)\n",
    "balanced_X = balanced_df.drop('default', axis=1)\n",
    "balanced_y = balanced_df.default\n",
    "\n",
    "# Построим модель на сбалансированной выборке\n",
    "X_train, X_test, y_train, y_test = train_test_split(balanced_X, balanced_y, test_size=0.20, random_state=42)\n",
    "\n",
    "model = LogisticRegression(penalty='l2', C=1)\n",
    "model.fit(X_train, y_train)\n",
    "\n",
    "probs = model.predict_proba(X_test)\n",
    "probs = probs[:,1]\n",
    "\n",
    "y_pred = model.predict(X_test)\n",
    "\n",
    "roc_auc_plot(y_test, probs)\n",
    "plot_confusion_matrix(model, X_train, y_train)\n"
   ]
  },
  {
   "cell_type": "code",
   "execution_count": null,
   "metadata": {},
   "outputs": [],
   "source": [
    "from sklearn.ensemble import GradientBoostingClassifier\n",
    "X, y, df = prepare_data(fill_na='mode')\n",
    "\n",
    "# Построим модель на сбалансированной выборке\n",
    "X_train, X_test, y_train, y_test = train_test_split(X, y, test_size=0.20, random_state=42)\n",
    "\n",
    "model = GradientBoostingClassifier()\n",
    "model.fit(X_train, y_train)\n",
    "\n",
    "probs = model.predict_proba(X_test)\n",
    "probs = probs[:,1]\n",
    "\n",
    "y_pred = model.predict(X_test)\n",
    "\n",
    "roc_auc_plot(y_test, probs)"
   ]
  },
  {
   "cell_type": "code",
   "execution_count": null,
   "metadata": {},
   "outputs": [],
   "source": [
    "df.head()"
   ]
  },
  {
   "cell_type": "code",
   "execution_count": null,
   "metadata": {
    "tags": []
   },
   "outputs": [],
   "source": [
    "from catboost import CatBoostClassifier\n",
    "\n",
    "X, y, df = prepare_data()\n",
    "\n",
    "# Построим модель на сбалансированной выборке\n",
    "X_train, X_test, y_train, y_test = train_test_split(X, y, test_size=0.20, random_state=42)\n",
    "\n",
    "model = CatBoostClassifier(verbose=0)\n",
    "model.fit(X_train, y_train)\n",
    "\n",
    "probs = model.predict_proba(X_test)\n",
    "probs = probs[:,1]\n",
    "\n",
    "y_pred = model.predict(X_test)\n",
    "\n",
    "roc_auc_plot(y_test, probs)"
   ]
  },
  {
   "source": [
    "# Feature Engineering"
   ],
   "cell_type": "markdown",
   "metadata": {}
  },
  {
   "cell_type": "code",
   "execution_count": null,
   "metadata": {},
   "outputs": [],
   "source": [
    "import featuretools as ft\n",
    "\n",
    "X, y, df = prepare_data(binarize_categorical=True)\n",
    "\n",
    "# Make an entityset and add the entity\n",
    "es = ft.EntitySet(id = 'scoring')\n",
    "es.entity_from_dataframe(entity_id = 'data', dataframe = df.drop('default', axis=1), \n",
    "                         make_index = True, index = 'index')\n",
    "\n",
    "#es = es.normalize_entity(base_entity_id='data', new_entity_id='age', index='age')\n",
    "\n",
    "# Run deep feature synthesis with transformation primitives\n",
    "feature_matrix, feature_defs = ft.dfs(entityset = es, target_entity = 'data', max_depth=2)\n",
    "\n",
    "\n",
    "# Разобьем датасет и обучим модеь\n",
    "from sklearn.linear_model import LogisticRegression\n",
    "from sklearn.metrics import classification_report, plot_confusion_matrix, roc_auc_score, roc_curve\n",
    "from sklearn.model_selection import train_test_split\n",
    "\n",
    "X = feature_matrix\n",
    "y = df.default\n",
    "\n",
    "X_train, X_test, y_train, y_test = train_test_split(X, y, test_size=0.20, random_state=42)\n",
    "\n",
    "model = LogisticRegression(penalty='l2')\n",
    "model.fit(X_train, y_train)\n",
    "y_pred = model.predict(X_test)\n",
    "\n",
    "print(classification_report(y_test, y_pred))\n",
    "plot_confusion_matrix(model, X_train, y_train, values_format='d')\n",
    "\n",
    "probs = model.predict_proba(X_test)\n",
    "probs = probs[:,1]\n",
    "\n",
    "from dshelpers.METRICS import roc_auc_plot\n",
    "roc_auc_plot(y_test, probs)"
   ]
  },
  {
   "cell_type": "code",
   "execution_count": null,
   "metadata": {},
   "outputs": [],
   "source": [
    "feature_matrix.head()"
   ]
  },
  {
   "cell_type": "code",
   "execution_count": null,
   "metadata": {},
   "outputs": [],
   "source": [
    "feature_matrix.head()"
   ]
  },
  {
   "cell_type": "code",
   "execution_count": 5,
   "metadata": {},
   "outputs": [
    {
     "output_type": "error",
     "ename": "TypeError",
     "evalue": "'float' object cannot be interpreted as an integer",
     "traceback": [
      "\u001b[1;31m---------------------------------------------------------------------------\u001b[0m",
      "\u001b[1;31mTypeError\u001b[0m                                 Traceback (most recent call last)",
      "\u001b[1;32m<ipython-input-5-0ee973019ee7>\u001b[0m in \u001b[0;36m<module>\u001b[1;34m\u001b[0m\n\u001b[1;32m----> 1\u001b[1;33m \u001b[0mnp\u001b[0m\u001b[1;33m.\u001b[0m\u001b[0mrandom\u001b[0m\u001b[1;33m.\u001b[0m\u001b[0mrand\u001b[0m\u001b[1;33m(\u001b[0m\u001b[1;36m0\u001b[0m\u001b[1;33m,\u001b[0m \u001b[1;36m1\u001b[0m\u001b[1;33m,\u001b[0m \u001b[1;36m0.1\u001b[0m\u001b[1;33m)\u001b[0m\u001b[1;33m\u001b[0m\u001b[1;33m\u001b[0m\u001b[0m\n\u001b[0m",
      "\u001b[1;32mmtrand.pyx\u001b[0m in \u001b[0;36mnumpy.random.mtrand.RandomState.rand\u001b[1;34m()\u001b[0m\n",
      "\u001b[1;32mmtrand.pyx\u001b[0m in \u001b[0;36mnumpy.random.mtrand.RandomState.random_sample\u001b[1;34m()\u001b[0m\n",
      "\u001b[1;32m_common.pyx\u001b[0m in \u001b[0;36mnumpy.random._common.double_fill\u001b[1;34m()\u001b[0m\n",
      "\u001b[1;31mTypeError\u001b[0m: 'float' object cannot be interpreted as an integer"
     ]
    }
   ],
   "source": [
    "np.random.rand(0, 1, 0.1)"
   ]
  },
  {
   "cell_type": "code",
   "execution_count": 7,
   "metadata": {},
   "outputs": [],
   "source": [
    "X, y, df = prepare_data(read_from_file=True)"
   ]
  },
  {
   "cell_type": "code",
   "execution_count": 13,
   "metadata": {},
   "outputs": [
    {
     "output_type": "execute_result",
     "data": {
      "text/plain": [
       "Pipeline(steps=[('standardscaler', StandardScaler()),\n",
       "                ('logisticregression', LogisticRegression())])"
      ]
     },
     "metadata": {},
     "execution_count": 13
    }
   ],
   "source": [
    "from sklearn.pipeline import Pipeline\n",
    "from sklearn.model_selection import train_test_split\n",
    "from sklearn.preprocessing import StandardScaler, RobustScaler\n",
    "from sklearn.linear_model import LogisticRegression\n",
    "from sklearn.model_selection import GridSearchCV\n",
    "from sklearn.pipeline import make_pipeline\n",
    "\n",
    "X_train, X_test, y_train, y_test = train_test_split(X, y, test_size=0.2, random_state=0)\n",
    "\n",
    "pipe = make_pipeline(StandardScaler(), LogisticRegression())\n",
    "\n",
    "pipe.fit(X_train, y_train)"
   ]
  },
  {
   "cell_type": "code",
   "execution_count": 15,
   "metadata": {},
   "outputs": [],
   "source": [
    "y_pred = pipe.predict(X_test)"
   ]
  },
  {
   "cell_type": "code",
   "execution_count": 16,
   "metadata": {},
   "outputs": [
    {
     "output_type": "execute_result",
     "data": {
      "text/plain": [
       "array([0., 0., 0., ..., 0., 0., 0.])"
      ]
     },
     "metadata": {},
     "execution_count": 16
    }
   ],
   "source": [
    "model = LogisticRegression(C=7, \n",
    "                           penalty='l2', \n",
    "                           multi_class = 'ovr', \n",
    "                           class_weight='balanced', \n",
    "                           solver='liblinear', \n",
    "                           random_state=RANDOM_SEED,\n",
    "                           max_iter=1000)\n",
    "\n",
    "model.fit(X_train, y_train)\n",
    "\n"
   ]
  },
  {
   "cell_type": "code",
   "execution_count": null,
   "metadata": {},
   "outputs": [],
   "source": []
  }
 ]
}