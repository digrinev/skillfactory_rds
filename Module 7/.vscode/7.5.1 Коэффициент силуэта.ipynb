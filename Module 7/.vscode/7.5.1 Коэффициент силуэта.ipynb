{
 "metadata": {
  "language_info": {
   "codemirror_mode": {
    "name": "ipython",
    "version": 3
   },
   "file_extension": ".py",
   "mimetype": "text/x-python",
   "name": "python",
   "nbconvert_exporter": "python",
   "pygments_lexer": "ipython3",
   "version": "3.8.3-final"
  },
  "orig_nbformat": 2,
  "kernelspec": {
   "name": "Python 3.8.3 64-bit (conda)",
   "display_name": "Python 3.8.3 64-bit (conda)",
   "metadata": {
    "interpreter": {
     "hash": "9ee973427bff2bfb7471c9896fa8bfc9ad87d3f4eceff1b8d7fcaace39851584"
    }
   }
  }
 },
 "nbformat": 4,
 "nbformat_minor": 2,
 "cells": [
  {
   "cell_type": "code",
   "execution_count": 123,
   "metadata": {},
   "outputs": [],
   "source": [
    "import numpy as np\n",
    "import matplotlib.pyplot as plt\n",
    "from sklearn import datasets\n",
    "import pandas as pd\n",
    "\n",
    "\n",
    "n_samples = 1500\n",
    "dataset = datasets.make_blobs(n_samples=n_samples, centers=2, center_box=(-7.0, 7.5),\n",
    "                              cluster_std=[1.4, 1.7],\n",
    "                              random_state=42)\n",
    "X_2, _ = datasets.make_blobs(n_samples=n_samples, random_state=170, centers=[[-4, -3]], cluster_std=[1.9])\n",
    "transformation = [[1.2, -0.8], [-0.4, 1.7]]\n",
    "X_2 = np.dot(X_2, transformation)\n",
    "X, y = np.concatenate((dataset[0], X_2)), np.concatenate((dataset[1], np.array([2] * len(X_2))))"
   ]
  },
  {
   "cell_type": "code",
   "execution_count": 8,
   "metadata": {},
   "outputs": [
    {
     "output_type": "execute_result",
     "data": {
      "text/plain": [
       "0.5131660482634046"
      ]
     },
     "metadata": {},
     "execution_count": 8
    }
   ],
   "source": [
    "from sklearn.cluster import KMeans\n",
    "from sklearn.metrics import silhouette_score\n",
    "\n",
    "# сначала получим предсказанные кластеры при помощи метода кластеризации\n",
    "kmeans = KMeans(n_clusters=3, random_state=42)\n",
    "kmeans.fit(X)\n",
    "kmeans_pred = kmeans.labels_\n",
    "\n",
    "# теперь посчитаем коэффициент силуэта\n",
    "silhouette_score(X=X, labels=kmeans_pred, metric='euclidean')"
   ]
  },
  {
   "cell_type": "code",
   "execution_count": 16,
   "metadata": {},
   "outputs": [
    {
     "output_type": "execute_result",
     "data": {
      "text/plain": [
       "0.4"
      ]
     },
     "metadata": {},
     "execution_count": 16
    }
   ],
   "source": [
    "from sklearn.mixture import GaussianMixture\n",
    "\n",
    "gm = GaussianMixture(n_components=3, random_state=42)\n",
    "gm.fit(X)\n",
    "gm_labels = gm.predict(X)\n",
    "np.round(silhouette_score(X=X, labels=gm_labels, metric='euclidean'), 1)"
   ]
  },
  {
   "cell_type": "code",
   "execution_count": 18,
   "metadata": {},
   "outputs": [
    {
     "output_type": "stream",
     "name": "stdout",
     "text": [
      "0.51\n",
      "0.4\n",
      "0.48\n",
      "0.45\n"
     ]
    }
   ],
   "source": [
    "from sklearn.cluster import AgglomerativeClustering, DBSCAN\n",
    "\n",
    "ac = AgglomerativeClustering(n_clusters=3)\n",
    "dbscan = DBSCAN(eps=0.9, min_samples=35)\n",
    "\n",
    "ac.fit(X)\n",
    "dbscan.fit(X)\n",
    "\n",
    "print(np.round(silhouette_score(X=X, labels=kmeans.labels_, metric='euclidean'), 2))\n",
    "print(np.round(silhouette_score(X=X, labels=gm_labels, metric='euclidean'), 2))\n",
    "print(np.round(silhouette_score(X=X, labels=ac.labels_, metric='euclidean'), 2))\n",
    "print(np.round(silhouette_score(X=X, labels=dbscan.labels_, metric='euclidean'), 2))\n"
   ]
  },
  {
   "cell_type": "code",
   "execution_count": 35,
   "metadata": {},
   "outputs": [
    {
     "output_type": "stream",
     "name": "stdout",
     "text": [
      "Fitting KMeans(n_clusters=2, random_state=42)\n",
      "Fitting GaussianMixture(n_components=2, random_state=42)\n",
      "Fitting AgglomerativeClustering()\n",
      "Fitting KMeans(n_clusters=3, random_state=42)\n",
      "Fitting GaussianMixture(n_components=3, random_state=42)\n",
      "Fitting AgglomerativeClustering(n_clusters=3)\n",
      "Fitting KMeans(n_clusters=4, random_state=42)\n",
      "Fitting GaussianMixture(n_components=4, random_state=42)\n",
      "Fitting AgglomerativeClustering(n_clusters=4)\n",
      "Fitting KMeans(n_clusters=5, random_state=42)\n",
      "Fitting GaussianMixture(n_components=5, random_state=42)\n",
      "Fitting AgglomerativeClustering(n_clusters=5)\n",
      "Fitting KMeans(n_clusters=6, random_state=42)\n",
      "Fitting GaussianMixture(n_components=6, random_state=42)\n",
      "Fitting AgglomerativeClustering(n_clusters=6)\n",
      "Fitting KMeans(n_clusters=7, random_state=42)\n",
      "Fitting GaussianMixture(n_components=7, random_state=42)\n",
      "Fitting AgglomerativeClustering(n_clusters=7)\n",
      "Fitting KMeans(random_state=42)\n",
      "Fitting GaussianMixture(n_components=8, random_state=42)\n",
      "Fitting AgglomerativeClustering(n_clusters=8)\n",
      "Fitting KMeans(n_clusters=9, random_state=42)\n",
      "Fitting GaussianMixture(n_components=9, random_state=42)\n",
      "Fitting AgglomerativeClustering(n_clusters=9)\n",
      "Fitting KMeans(n_clusters=10, random_state=42)\n",
      "Fitting GaussianMixture(n_components=10, random_state=42)\n",
      "Fitting AgglomerativeClustering(n_clusters=10)\n"
     ]
    }
   ],
   "source": [
    "best_scores = dict(kmeans={'scores':[], 'n_clusters':[]}, em={'scores':[], 'n_clusters':[]}, ac={'scores':[], 'n_clusters':[]})\n",
    "\n",
    "for n_clusters in range(2, 11):\n",
    "    clfs = [\n",
    "        (KMeans(n_clusters=n_clusters, random_state=42), 0, 'kmeans'),\n",
    "        (GaussianMixture(n_components=n_clusters, random_state=42), 1, 'em'),\n",
    "        (AgglomerativeClustering(n_clusters=n_clusters), 0, 'ac')\n",
    "    ]\n",
    "\n",
    "    for clf in clfs:\n",
    "        print(f'Fitting {clf[0]}')\n",
    "        \n",
    "        clf[0].fit(X)\n",
    "\n",
    "        if clf[1]:\n",
    "            labels = clf[0].predict(X)\n",
    "        else:\n",
    "            labels = clf[0].labels_\n",
    "\n",
    "        best_scores[clf[2]]['scores'].append(np.round(silhouette_score(X=X, labels=labels, metric='euclidean'), 3))\n",
    "        best_scores[clf[2]]['n_clusters'].append(n_clusters)\n",
    "\n",
    "\n",
    "\n",
    "    "
   ]
  },
  {
   "cell_type": "code",
   "execution_count": 46,
   "metadata": {},
   "outputs": [
    {
     "output_type": "stream",
     "name": "stdout",
     "text": [
      "KMEANS 3\nEM 4\nAC 4\n"
     ]
    }
   ],
   "source": [
    "kmeans_scores = dict(zip(best_scores['kmeans']['n_clusters'], best_scores['kmeans']['scores']))\n",
    "em_scores = dict(zip(best_scores['em']['n_clusters'], best_scores['em']['scores']))\n",
    "ac_scores = dict(zip(best_scores['ac']['n_clusters'], best_scores['ac']['scores']))\n",
    "\n",
    "print('KMEANS', max(kmeans_scores, key=kmeans_scores.get))\n",
    "print('EM', max(em_scores, key=em_scores.get))\n",
    "print('AC', max(ac_scores, key=ac_scores.get))"
   ]
  },
  {
   "cell_type": "code",
   "execution_count": 85,
   "metadata": {},
   "outputs": [
    {
     "output_type": "stream",
     "name": "stdout",
     "text": [
      "Однородность\nKMEANS: 0.8\nEM: 0.93\nAC: 0.91\nDBSCAN: 0.0\nПолнота\nKMEANS: 0.78\nEM: 0.93\nAC: 0.91\nDBSCAN: 0.08\nV-мера\nKMEANS: 0.79\nEM: 0.93\nAC: 0.91\nDBSCAN: 0.0\n"
     ]
    }
   ],
   "source": [
    "from sklearn.cluster import KMeans\n",
    "from sklearn.metrics.cluster import homogeneity_score, completeness_score, v_measure_score\n",
    "from sklearn.preprocessing import StandardScaler\n",
    "\n",
    "\n",
    "# сначала получим предсказанные кластеры при помощи метода кластеризации\n",
    "kmeans = KMeans(n_clusters=3, random_state=42)\n",
    "gm = GaussianMixture(n_components=3, random_state=42)\n",
    "ac = AgglomerativeClustering(n_clusters=3)\n",
    "dbscan = DBSCAN(eps=0.9, min_samples=35)\n",
    "\n",
    "# Нормируем данные\n",
    "X_scaled = StandardScaler().fit_transform(X)\n",
    "\n",
    "# Обучаем модели\n",
    "kmeans.fit(X_scaled) \n",
    "gm.fit(X_scaled)\n",
    "ac.fit(X_scaled)\n",
    "dbscan.fit(X_scaled)\n",
    "\n",
    "# Получаем метки\n",
    "kmeans_pred = kmeans.labels_ \n",
    "gm_pred = gm.predict(X_scaled)\n",
    "ac_pred = ac.labels_ \n",
    "dbscan_pred = dbscan.labels_ \n",
    "\n",
    "# теперь посчитаем однородность \n",
    "print('Однородность')\n",
    "print(f'KMEANS: {np.round(homogeneity_score(labels_true=y, labels_pred=kmeans_pred), 2)}')\n",
    "print(f'EM: {np.round(homogeneity_score(labels_true=y, labels_pred=gm_pred), 2)}')\n",
    "print(f'AC: {np.round(homogeneity_score(labels_true=y, labels_pred=ac_pred), 2)}')\n",
    "print(f'DBSCAN: {np.round(homogeneity_score(labels_true=y, labels_pred=dbscan_pred), 2)}')\n",
    "\n",
    "# Полнота\n",
    "print('Полнота')\n",
    "print(f'KMEANS: {np.round(completeness_score(labels_true=y, labels_pred=kmeans_pred), 2)}')\n",
    "print(f'EM: {np.round(completeness_score(labels_true=y, labels_pred=gm_pred), 2)}')\n",
    "print(f'AC: {np.round(completeness_score(labels_true=y, labels_pred=ac_pred), 2)}')\n",
    "print(f'DBSCAN: {np.round(completeness_score(labels_true=y, labels_pred=dbscan_pred), 2)}')\n",
    "\n",
    "# V-мера\n",
    "print('V-мера')\n",
    "print(f'KMEANS: {np.round(v_measure_score(labels_true=y, labels_pred=kmeans_pred), 2)}')\n",
    "print(f'EM: {np.round(v_measure_score(labels_true=y, labels_pred=gm_pred), 2)}')\n",
    "print(f'AC: {np.round(v_measure_score(labels_true=y, labels_pred=ac_pred), 2)}')\n",
    "print(f'DBSCAN: {np.round(v_measure_score(labels_true=y, labels_pred=dbscan_pred), 2)}')\n"
   ]
  },
  {
   "cell_type": "code",
   "execution_count": 67,
   "metadata": {},
   "outputs": [
    {
     "output_type": "stream",
     "name": "stdout",
     "text": [
      "V-мера\nKMEANS 1: 0.79\nKMEANS 2: 0.79\n"
     ]
    }
   ],
   "source": [
    "kmeans1 = KMeans(n_clusters=3, init='k-means++', n_init=1, random_state=42)\n",
    "kmeans2 = KMeans(n_clusters=3, init='random', n_init=1, random_state=42)\n",
    "\n",
    "kmeans1.fit(X_scaled)\n",
    "kmeans2.fit(X_scaled)\n",
    "\n",
    "# V-мера\n",
    "print('V-мера')\n",
    "print(f'KMEANS 1: {np.round(v_measure_score(labels_true=y, labels_pred=kmeans1.labels_), 2)}')\n",
    "print(f'KMEANS 2: {np.round(v_measure_score(labels_true=y, labels_pred=kmeans2.labels_), 2)}')\n",
    "\n"
   ]
  },
  {
   "cell_type": "code",
   "execution_count": 69,
   "metadata": {},
   "outputs": [
    {
     "output_type": "stream",
     "name": "stdout",
     "text": [
      "V-мера\nKMEANS 1: 0.79\nKMEANS 2: 0.75\n"
     ]
    }
   ],
   "source": [
    "from sklearn.cluster import MiniBatchKMeans\n",
    "\n",
    "kmeans = KMeans(n_clusters=3, n_init=1, random_state=42)\n",
    "mbkmeans = MiniBatchKMeans(n_clusters=3, n_init=1, random_state=42)\n",
    "\n",
    "kmeans.fit(X_scaled)\n",
    "mbkmeans.fit(X_scaled)\n",
    "\n",
    "# V-мера\n",
    "print('V-мера')\n",
    "print(f'KMEANS 1: {np.round(v_measure_score(labels_true=y, labels_pred=kmeans.labels_), 2)}')\n",
    "print(f'KMEANS 2: {np.round(v_measure_score(labels_true=y, labels_pred=mbkmeans.labels_), 2)}')\n"
   ]
  },
  {
   "cell_type": "code",
   "execution_count": 76,
   "metadata": {},
   "outputs": [
    {
     "output_type": "stream",
     "name": "stdout",
     "text": [
      "linkage=ward v-score: 0.91\n",
      "linkage=complete v-score: 0.58\n",
      "linkage=average v-score: 0.68\n",
      "linkage=single v-score: 0.0\n"
     ]
    }
   ],
   "source": [
    "params = ['ward', 'complete', 'average', 'single']\n",
    "\n",
    "for param in params:\n",
    "    clf = AgglomerativeClustering(n_clusters=3, linkage=param)\n",
    "    clf.fit(X_scaled)\n",
    "    print(f'linkage={param} v-score: {np.round(v_measure_score(labels_true=y, labels_pred=clf.labels_), 2)}')"
   ]
  },
  {
   "cell_type": "code",
   "execution_count": 78,
   "metadata": {},
   "outputs": [
    {
     "output_type": "stream",
     "name": "stdout",
     "text": [
      "connectivity=False v-score: 0.91\nconnectivity=True v-score: 0.88\n"
     ]
    }
   ],
   "source": [
    "from sklearn.neighbors import kneighbors_graph\n",
    "\n",
    "connectivity = kneighbors_graph(X, n_neighbors=6, include_self=False)\n",
    "connectivity = 0.5 * (connectivity + connectivity.T)\n",
    "\n",
    "clf = AgglomerativeClustering(n_clusters=3)\n",
    "clf_c = AgglomerativeClustering(n_clusters=3, connectivity=connectivity)\n",
    "\n",
    "clf.fit(X_scaled)\n",
    "clf_c.fit(X_scaled)\n",
    "\n",
    "print(f'connectivity=False v-score: {np.round(v_measure_score(labels_true=y, labels_pred=clf.labels_), 2)}')\n",
    "print(f'connectivity=True v-score: {np.round(v_measure_score(labels_true=y, labels_pred=clf_c.labels_), 2)}')"
   ]
  },
  {
   "cell_type": "code",
   "execution_count": 110,
   "metadata": {},
   "outputs": [
    {
     "output_type": "stream",
     "name": "stdout",
     "text": [
      "eps=0.9 v-score: 0.77\neps=0.8 v-score: 0.71\n"
     ]
    }
   ],
   "source": [
    "dbscan1 = DBSCAN(eps=0.9, min_samples=35)\n",
    "dbscan2 = DBSCAN(eps=0.8, min_samples=35)\n",
    "\n",
    "dbscan1.fit(X)\n",
    "dbscan2.fit(X)\n",
    "\n",
    "print(f'eps=0.9 v-score: {np.round(v_measure_score(labels_true=y, labels_pred=dbscan1.labels_), 2)}')\n",
    "print(f'eps=0.8 v-score: {np.round(v_measure_score(labels_true=y, labels_pred=dbscan2.labels_), 2)}')"
   ]
  },
  {
   "cell_type": "code",
   "execution_count": 114,
   "metadata": {},
   "outputs": [],
   "source": [
    "X_df = pd.DataFrame(X, columns=['x1', 'x2'])\n",
    "X_df['cluster'] = dbscan1.labels_\n",
    "X_df['y'] = y"
   ]
  },
  {
   "cell_type": "code",
   "execution_count": 118,
   "metadata": {},
   "outputs": [],
   "source": [
    "X_without_outliers = X_df[X_df.cluster != -1].drop('cluster', axis=1).copy()\n",
    "y_without_outliers = X_without_outliers['y']"
   ]
  },
  {
   "cell_type": "code",
   "execution_count": 121,
   "metadata": {},
   "outputs": [
    {
     "output_type": "stream",
     "name": "stdout",
     "text": [
      "eps=0.9 v-score: 0.97\n"
     ]
    }
   ],
   "source": [
    "dbscan = DBSCAN(eps=0.9, min_samples=35)\n",
    "dbscan.fit(X_without_outliers.drop('y', axis=1))\n",
    "print(f'eps=0.9 v-score: {np.round(v_measure_score(labels_true=y_without_outliers, labels_pred=dbscan.labels_), 2)}')\n"
   ]
  },
  {
   "cell_type": "code",
   "execution_count": 130,
   "metadata": {},
   "outputs": [
    {
     "output_type": "stream",
     "name": "stdout",
     "text": [
      "Normal v-score: 0.7\nScaled v-score: 0.89\n"
     ]
    }
   ],
   "source": [
    "from sklearn.preprocessing import MinMaxScaler\n",
    "X_scaled = MinMaxScaler().fit_transform(X)\n",
    "\n",
    "clf = AgglomerativeClustering(n_clusters=3)\n",
    "clf_scaled = AgglomerativeClustering(n_clusters=3)\n",
    "clf.fit(X)\n",
    "clf_scaled.fit(X_scaled)\n",
    "\n",
    "print(f'Normal v-score: {np.round(v_measure_score(labels_true=y, labels_pred=clf.labels_), 2)}')\n",
    "print(f'Scaled v-score: {np.round(v_measure_score(labels_true=y, labels_pred=clf_scaled.labels_), 2)}')\n",
    "\n"
   ]
  },
  {
   "cell_type": "code",
   "execution_count": 128,
   "metadata": {},
   "outputs": [
    {
     "output_type": "execute_result",
     "data": {
      "text/plain": [
       "(3000, 2)"
      ]
     },
     "metadata": {},
     "execution_count": 128
    }
   ],
   "source": [
    "X.shape"
   ]
  },
  {
   "cell_type": "code",
   "execution_count": null,
   "metadata": {},
   "outputs": [],
   "source": []
  }
 ]
}