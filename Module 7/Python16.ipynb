{
 "metadata": {
  "language_info": {
   "codemirror_mode": {
    "name": "ipython",
    "version": 3
   },
   "file_extension": ".py",
   "mimetype": "text/x-python",
   "name": "python",
   "nbconvert_exporter": "python",
   "pygments_lexer": "ipython3",
   "version": "3.8.3-final"
  },
  "orig_nbformat": 2,
  "kernelspec": {
   "name": "Python 3.8.3 64-bit (conda)",
   "display_name": "Python 3.8.3 64-bit (conda)",
   "metadata": {
    "interpreter": {
     "hash": "9ee973427bff2bfb7471c9896fa8bfc9ad87d3f4eceff1b8d7fcaace39851584"
    }
   }
  }
 },
 "nbformat": 4,
 "nbformat_minor": 2,
 "cells": [
  {
   "source": [
    "# 9.2 Библиотека requests"
   ],
   "cell_type": "markdown",
   "metadata": {}
  },
  {
   "cell_type": "code",
   "execution_count": 5,
   "metadata": {},
   "outputs": [
    {
     "output_type": "stream",
     "name": "stdout",
     "text": [
      "<bound method Response.json of <Response [200]>>\n"
     ]
    }
   ],
   "source": [
    "import requests  \n",
    "response = requests.get('https://www.cbr-xml-daily.ru/daily.xml')  \n"
   ]
  },
  {
   "source": [
    "# 9.3 Результат"
   ],
   "cell_type": "markdown",
   "metadata": {}
  },
  {
   "cell_type": "code",
   "execution_count": 7,
   "metadata": {},
   "outputs": [],
   "source": [
    "import requests    \n",
    "response = requests.get('https://www.cbr-xml-daily.ru/daily_json.js')    \n",
    "currencies = response.json()"
   ]
  },
  {
   "cell_type": "code",
   "execution_count": 8,
   "metadata": {},
   "outputs": [
    {
     "output_type": "stream",
     "name": "stdout",
     "text": [
      "Чешских крон\n"
     ]
    }
   ],
   "source": [
    "print(currencies['Valute']['CZK']['Name'])"
   ]
  },
  {
   "cell_type": "code",
   "execution_count": 11,
   "metadata": {},
   "outputs": [
    {
     "output_type": "execute_result",
     "data": {
      "text/plain": [
       "93.757"
      ]
     },
     "metadata": {},
     "execution_count": 11
    }
   ],
   "source": [
    "def exchange_rates(currency, format='full'):    \n",
    "    url = 'https://www.cbr-xml-daily.ru/daily_json.js'  \n",
    "    response = requests.get(url).json()['Valute']    \n",
    "    data = response[currency]     \n",
    "    if format == 'full':    \n",
    "        return data      \n",
    "    elif format == 'value':    \n",
    "        return data['Value'] \n",
    "\n",
    "exchange_rates('EUR', 'value')   "
   ]
  },
  {
   "cell_type": "code",
   "execution_count": 24,
   "metadata": {},
   "outputs": [
    {
     "output_type": "stream",
     "name": "stdout",
     "text": [
      "{'ID': 'R01010', 'NumCode': '036', 'CharCode': 'AUD', 'Nominal': 1, 'Name': 'Австралийский доллар', 'Value': 56.3702, 'Previous': 55.7706}\n{'ID': 'R01020A', 'NumCode': '944', 'CharCode': 'AZN', 'Nominal': 1, 'Name': 'Азербайджанский манат', 'Value': 47.4249, 'Previous': 46.6935}\n{'ID': 'R01035', 'NumCode': '826', 'CharCode': 'GBP', 'Nominal': 1, 'Name': 'Фунт стерлингов Соединенного королевства', 'Value': 103.708, 'Previous': 102.5449}\n{'ID': 'R01060', 'NumCode': '051', 'CharCode': 'AMD', 'Nominal': 100, 'Name': 'Армянских драмов', 'Value': 16.3554, 'Previous': 16.0868}\n{'ID': 'R01090B', 'NumCode': '933', 'CharCode': 'BYN', 'Nominal': 1, 'Name': 'Белорусский рубль', 'Value': 30.3027, 'Previous': 30.0946}\n{'ID': 'R01100', 'NumCode': '975', 'CharCode': 'BGN', 'Nominal': 1, 'Name': 'Болгарский лев', 'Value': 47.9156, 'Previous': 47.3371}\n{'ID': 'R01115', 'NumCode': '986', 'CharCode': 'BRL', 'Nominal': 1, 'Name': 'Бразильский реал', 'Value': 14.0304, 'Previous': 13.7274}\n{'ID': 'R01135', 'NumCode': '348', 'CharCode': 'HUF', 'Nominal': 100, 'Name': 'Венгерских форинтов', 'Value': 25.5651, 'Previous': 25.1749}\n{'ID': 'R01200', 'NumCode': '344', 'CharCode': 'HKD', 'Nominal': 1, 'Name': 'Гонконгский доллар', 'Value': 10.3918, 'Previous': 10.2329}\n{'ID': 'R01215', 'NumCode': '208', 'CharCode': 'DKK', 'Nominal': 1, 'Name': 'Датская крона', 'Value': 12.5853, 'Previous': 12.431}\n{'ID': 'R01235', 'NumCode': '840', 'CharCode': 'USD', 'Nominal': 1, 'Name': 'Доллар США', 'Value': 80.5749, 'Previous': 79.3323}\n{'ID': 'R01239', 'NumCode': '978', 'CharCode': 'EUR', 'Nominal': 1, 'Name': 'Евро', 'Value': 93.757, 'Previous': 92.6284}\n{'ID': 'R01270', 'NumCode': '356', 'CharCode': 'INR', 'Nominal': 10, 'Name': 'Индийских рупий', 'Value': 10.8252, 'Previous': 10.6296}\n{'ID': 'R01335', 'NumCode': '398', 'CharCode': 'KZT', 'Nominal': 100, 'Name': 'Казахстанских тенге', 'Value': 18.4892, 'Previous': 18.3154}\n{'ID': 'R01350', 'NumCode': '124', 'CharCode': 'CAD', 'Nominal': 1, 'Name': 'Канадский доллар', 'Value': 60.3919, 'Previous': 59.532}\n{'ID': 'R01370', 'NumCode': '417', 'CharCode': 'KGS', 'Nominal': 100, 'Name': 'Киргизских сомов', 'Value': 98.4696, 'Previous': 97.1067}\n{'ID': 'R01375', 'NumCode': '156', 'CharCode': 'CNY', 'Nominal': 1, 'Name': 'Китайский юань', 'Value': 12.0259, 'Previous': 11.8403}\n{'ID': 'R01500', 'NumCode': '498', 'CharCode': 'MDL', 'Nominal': 10, 'Name': 'Молдавских леев', 'Value': 47.1474, 'Previous': 46.5292}\n{'ID': 'R01535', 'NumCode': '578', 'CharCode': 'NOK', 'Nominal': 10, 'Name': 'Норвежских крон', 'Value': 84.0986, 'Previous': 83.0079}\n{'ID': 'R01565', 'NumCode': '985', 'CharCode': 'PLN', 'Nominal': 1, 'Name': 'Польский злотый', 'Value': 20.3236, 'Previous': 20.0532}\n{'ID': 'R01585F', 'NumCode': '946', 'CharCode': 'RON', 'Nominal': 1, 'Name': 'Румынский лей', 'Value': 19.2652, 'Previous': 18.9922}\n{'ID': 'R01589', 'NumCode': '960', 'CharCode': 'XDR', 'Nominal': 1, 'Name': 'СДР (специальные права заимствования)', 'Value': 113.7428, 'Previous': 112.0164}\n{'ID': 'R01625', 'NumCode': '702', 'CharCode': 'SGD', 'Nominal': 1, 'Name': 'Сингапурский доллар', 'Value': 58.9256, 'Previous': 58.0849}\n{'ID': 'R01670', 'NumCode': '972', 'CharCode': 'TJS', 'Nominal': 10, 'Name': 'Таджикских сомони', 'Value': 77.869, 'Previous': 76.6866}\n{'ID': 'R01700J', 'NumCode': '949', 'CharCode': 'TRY', 'Nominal': 10, 'Name': 'Турецких лир', 'Value': 95.8791, 'Previous': 95.254}\n"
     ]
    },
    {
     "output_type": "execute_result",
     "data": {
      "text/plain": [
       "'Турецких лир'"
      ]
     },
     "metadata": {},
     "execution_count": 24
    }
   ],
   "source": [
    "def currency_name(currency_id):    \n",
    "    url = 'https://www.cbr-xml-daily.ru/daily_json.js'  \n",
    "    response = requests.get(url).json()['Valute']    \n",
    "\n",
    "    for _, val in response.items():\n",
    "        print(val)\n",
    "        if val['ID'] == currency_id:\n",
    "            return val['Name']\n",
    "    \n",
    "    return 'Валюта не найдена'\n",
    "\n",
    "currency_name('R01700J')"
   ]
  },
  {
   "source": [
    "# 9.7 BS4"
   ],
   "cell_type": "markdown",
   "metadata": {}
  },
  {
   "cell_type": "code",
   "execution_count": 28,
   "metadata": {},
   "outputs": [
    {
     "output_type": "stream",
     "name": "stdout",
     "text": [
      "<title>Робота-ленивца научили лазать по паутине из тросов</title>\n"
     ]
    },
    {
     "output_type": "execute_result",
     "data": {
      "text/plain": [
       "'Робота-ленивца научили лазать по паутине из тросов'"
      ]
     },
     "metadata": {},
     "execution_count": 28
    }
   ],
   "source": [
    "# Импортируем наши библиотеки    \n",
    "from bs4 import BeautifulSoup \n",
    "import requests    \n",
    "    \n",
    "# Получаем данные, как и ранее    \n",
    "url = 'https://nplus1.ru/news/2019/06/04/slothbot'   \n",
    "response = requests.get(url)    \n",
    "    \n",
    "# Теперь создадим объект BeautifulSoup, указывая html парсер    \n",
    "soup = BeautifulSoup(response.text)    \n",
    "    \n",
    "# Всё готово, чтобы получать данные из страницы    \n",
    "# Для начала получим title, отображающийся на закладках браузера    \n",
    "print(soup.title)  \n",
    "# => <title>Робота-ленивца научили лазать по паутине из тросов</title>  \n",
    "    \n",
    "# Мы получили тэг. Чтобы достать из него текст, вызовем атрибут text    \n",
    "soup.title.text    \n",
    "# => 'Робота-ленивца научили лазать по паутине из тросов'  \n",
    " "
   ]
  },
  {
   "cell_type": "code",
   "execution_count": 30,
   "metadata": {},
   "outputs": [
    {
     "output_type": "execute_result",
     "data": {
      "text/plain": [
       "'Operating system'"
      ]
     },
     "metadata": {},
     "execution_count": 30
    }
   ],
   "source": [
    "def wiki_header(url):\n",
    "    response = requests.get(url)\n",
    "\n",
    "    soup = BeautifulSoup(response.text, 'html.parser')\n",
    "\n",
    "    return soup.find('h1').text\n",
    "\n",
    "wiki_header('https://en.wikipedia.org/wiki/Operating_system')\n",
    "# => 'Operating system'"
   ]
  },
  {
   "source": [
    "import time\n",
    "from fake_useragent import UserAgent\n",
    "\n",
    "def get_actors(url):\n",
    "    actor_list = []\n",
    "    headers = {\n",
    "        'user-agent': UserAgent().random\n",
    "    }\n",
    "    \n",
    "    response = requests.get(url, headers=headers)\n",
    "\n",
    "    try:\n",
    "        soup = BeautifulSoup(response.text, 'html.parser')\n",
    "        actors_base = soup.find('ul', class_='styles_list__I97eu')\n",
    "        actors_list = actors_base.find_all('a')\n",
    "\n",
    "        for actor in actors_list:\n",
    "            actor_list.append(actor.text)\n",
    "    except AttributeError:\n",
    "        print('Похоже Кинопоиск вернул капчу!')\n",
    "\n",
    "    return actor_list\n",
    "\n",
    "get_actors('https://www.kinopoisk.ru/film/326/')"
   ],
   "cell_type": "code",
   "metadata": {
    "tags": []
   },
   "execution_count": 74,
   "outputs": [
    {
     "output_type": "stream",
     "name": "stdout",
     "text": [
      "Похоже Кинопоиск вернул капчу!\n"
     ]
    },
    {
     "output_type": "execute_result",
     "data": {
      "text/plain": [
       "[]"
      ]
     },
     "metadata": {},
     "execution_count": 74
    }
   ]
  },
  {
   "cell_type": "code",
   "execution_count": 65,
   "metadata": {},
   "outputs": [
    {
     "output_type": "execute_result",
     "data": {
      "text/plain": [
       "                 0           1           2\n",
       "0           валюта  31.10.2020  03.11.2020\n",
       "1  Доллар США  USD      793323      805749\n",
       "2        Евро  EUR      926284      937570"
      ],
      "text/html": "<div>\n<style scoped>\n    .dataframe tbody tr th:only-of-type {\n        vertical-align: middle;\n    }\n\n    .dataframe tbody tr th {\n        vertical-align: top;\n    }\n\n    .dataframe thead th {\n        text-align: right;\n    }\n</style>\n<table border=\"1\" class=\"dataframe\">\n  <thead>\n    <tr style=\"text-align: right;\">\n      <th></th>\n      <th>0</th>\n      <th>1</th>\n      <th>2</th>\n    </tr>\n  </thead>\n  <tbody>\n    <tr>\n      <th>0</th>\n      <td>валюта</td>\n      <td>31.10.2020</td>\n      <td>03.11.2020</td>\n    </tr>\n    <tr>\n      <th>1</th>\n      <td>Доллар США  USD</td>\n      <td>793323</td>\n      <td>805749</td>\n    </tr>\n    <tr>\n      <th>2</th>\n      <td>Евро  EUR</td>\n      <td>926284</td>\n      <td>937570</td>\n    </tr>\n  </tbody>\n</table>\n</div>"
     },
     "metadata": {},
     "execution_count": 65
    }
   ],
   "source": [
    "import pandas as pd  \n",
    "url = 'https://www.cbr.ru/key-indicators/'  \n",
    "# Таблица с драгметаллами оказалась второй по счёту  \n",
    "pd.read_html(url)[0]  "
   ]
  },
  {
   "cell_type": "code",
   "execution_count": 67,
   "metadata": {},
   "outputs": [
    {
     "output_type": "stream",
     "name": "stdout",
     "text": [
      "Collecting fake-useragent\n",
      "  Downloading fake-useragent-0.1.11.tar.gz (13 kB)\n",
      "Building wheels for collected packages: fake-useragent\n",
      "  Building wheel for fake-useragent (setup.py): started\n",
      "  Building wheel for fake-useragent (setup.py): finished with status 'done'\n",
      "  Created wheel for fake-useragent: filename=fake_useragent-0.1.11-py3-none-any.whl size=13489 sha256=54d9fac0fb288089fb6842a22e6035fc199973ea493ae065fc52f6ca572f62fc\n",
      "  Stored in directory: c:\\users\\dmitriy\\appdata\\local\\pip\\cache\\wheels\\a0\\b8\\b7\\8c942b2c5be5158b874a88195116b05ad124bac795f6665e65\n",
      "Successfully built fake-useragent\n",
      "Installing collected packages: fake-useragent\n",
      "Successfully installed fake-useragent-0.1.11\n"
     ]
    }
   ],
   "source": [
    "!pip install fake-useragent"
   ]
  },
  {
   "source": [
    "# Парсер рейтинга банков"
   ],
   "cell_type": "markdown",
   "metadata": {}
  },
  {
   "cell_type": "code",
   "execution_count": null,
   "metadata": {},
   "outputs": [],
   "source": [
    "from bs4 import BeautifulSoup  \n",
    "import pandas as pd  \n",
    "import requests  \n",
    "from fake_useragent import FakeUserAgent\n",
    "  \n",
    "url = 'https://www.banki.ru/banks/ratings/'\n",
    "soup = BeautifulSoup(requests.get(url, headers={'User-Agent': FakeUserAgent().random}).text, 'html.parser')  "
   ]
  }
 ]
}