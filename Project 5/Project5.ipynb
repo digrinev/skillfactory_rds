{
 "metadata": {
  "language_info": {
   "codemirror_mode": {
    "name": "ipython",
    "version": 3
   },
   "file_extension": ".py",
   "mimetype": "text/x-python",
   "name": "python",
   "nbconvert_exporter": "python",
   "pygments_lexer": "ipython3",
   "version": "3.8.3-final"
  },
  "orig_nbformat": 2,
  "kernelspec": {
   "name": "python3",
   "display_name": "Python 3"
  }
 },
 "nbformat": 4,
 "nbformat_minor": 2,
 "cells": [
  {
   "cell_type": "code",
   "execution_count": 19,
   "metadata": {},
   "outputs": [],
   "source": [
    "import numpy as np\n",
    "import pandas as pd\n",
    "import os\n",
    "\n",
    "path = os.getcwd()\n",
    "df = pd.read_csv(path+'\\\\parsers\\\\data\\\\BMW.csv', sep='|')"
   ]
  },
  {
   "cell_type": "code",
   "execution_count": 20,
   "metadata": {},
   "outputs": [
    {
     "output_type": "execute_result",
     "data": {
      "text/plain": [
       "      bodyType brand   color  fuelType  modelDate  \\\n",
       "0        седан   BMW  97948F  GASOLINE       1968   \n",
       "1  седан 2 дв.   BMW  FF8649  GASOLINE       1966   \n",
       "2        седан   BMW  22A0F8  GASOLINE       1968   \n",
       "3        седан   BMW  007F00  GASOLINE       1977   \n",
       "4        седан   BMW  97948F  GASOLINE       1981   \n",
       "\n",
       "                             name  numberOfDoors  productionDate  \\\n",
       "0            E3 2.5 MT (150 л.с.)              4            1969   \n",
       "1      02 (E10) 2.0 MT (101 л.с.)              2            1972   \n",
       "2            E3 2.5 MT (150 л.с.)              4            1975   \n",
       "3  7 серии 733i 3.2 MT (197 л.с.)              4            1981   \n",
       "4  5 серии 520i 2.0 MT (125 л.с.)              4            1982   \n",
       "\n",
       "           vehicleConfiguration vehicleTransmission  ... Комплектация  \\\n",
       "0          SEDAN MECHANICAL 2.5          MECHANICAL  ...          NaN   \n",
       "1  SEDAN_2_DOORS MECHANICAL 2.0          MECHANICAL  ...          NaN   \n",
       "2          SEDAN MECHANICAL 2.5          MECHANICAL  ...          NaN   \n",
       "3         SEDAN MECHANICAL 733i          MECHANICAL  ...          NaN   \n",
       "4         SEDAN MECHANICAL 520i          MECHANICAL  ...          NaN   \n",
       "\n",
       "       Привод  Руль  Состояние  Владельцы   ПТС Таможня  Владение      price  \\\n",
       "0  REAR_DRIVE  LEFT        NaN        2.0  True    True    2011 1   460000.0   \n",
       "1  REAR_DRIVE  LEFT        NaN        1.0  True    True   1977 12  1000000.0   \n",
       "2  REAR_DRIVE  LEFT        NaN        2.0  True    True    1989 7   850000.0   \n",
       "3  REAR_DRIVE  LEFT        NaN        2.0  True    True       NaN   350000.0   \n",
       "4  REAR_DRIVE  LEFT        NaN        1.0  True    True    2018 3  1890000.0   \n",
       "\n",
       "  currency  \n",
       "0      RUR  \n",
       "1      RUR  \n",
       "2      RUR  \n",
       "3      RUR  \n",
       "4      RUR  \n",
       "\n",
       "[5 rows x 24 columns]"
      ],
      "text/html": "<div>\n<style scoped>\n    .dataframe tbody tr th:only-of-type {\n        vertical-align: middle;\n    }\n\n    .dataframe tbody tr th {\n        vertical-align: top;\n    }\n\n    .dataframe thead th {\n        text-align: right;\n    }\n</style>\n<table border=\"1\" class=\"dataframe\">\n  <thead>\n    <tr style=\"text-align: right;\">\n      <th></th>\n      <th>bodyType</th>\n      <th>brand</th>\n      <th>color</th>\n      <th>fuelType</th>\n      <th>modelDate</th>\n      <th>name</th>\n      <th>numberOfDoors</th>\n      <th>productionDate</th>\n      <th>vehicleConfiguration</th>\n      <th>vehicleTransmission</th>\n      <th>...</th>\n      <th>Комплектация</th>\n      <th>Привод</th>\n      <th>Руль</th>\n      <th>Состояние</th>\n      <th>Владельцы</th>\n      <th>ПТС</th>\n      <th>Таможня</th>\n      <th>Владение</th>\n      <th>price</th>\n      <th>currency</th>\n    </tr>\n  </thead>\n  <tbody>\n    <tr>\n      <th>0</th>\n      <td>седан</td>\n      <td>BMW</td>\n      <td>97948F</td>\n      <td>GASOLINE</td>\n      <td>1968</td>\n      <td>E3 2.5 MT (150 л.с.)</td>\n      <td>4</td>\n      <td>1969</td>\n      <td>SEDAN MECHANICAL 2.5</td>\n      <td>MECHANICAL</td>\n      <td>...</td>\n      <td>NaN</td>\n      <td>REAR_DRIVE</td>\n      <td>LEFT</td>\n      <td>NaN</td>\n      <td>2.0</td>\n      <td>True</td>\n      <td>True</td>\n      <td>2011 1</td>\n      <td>460000.0</td>\n      <td>RUR</td>\n    </tr>\n    <tr>\n      <th>1</th>\n      <td>седан 2 дв.</td>\n      <td>BMW</td>\n      <td>FF8649</td>\n      <td>GASOLINE</td>\n      <td>1966</td>\n      <td>02 (E10) 2.0 MT (101 л.с.)</td>\n      <td>2</td>\n      <td>1972</td>\n      <td>SEDAN_2_DOORS MECHANICAL 2.0</td>\n      <td>MECHANICAL</td>\n      <td>...</td>\n      <td>NaN</td>\n      <td>REAR_DRIVE</td>\n      <td>LEFT</td>\n      <td>NaN</td>\n      <td>1.0</td>\n      <td>True</td>\n      <td>True</td>\n      <td>1977 12</td>\n      <td>1000000.0</td>\n      <td>RUR</td>\n    </tr>\n    <tr>\n      <th>2</th>\n      <td>седан</td>\n      <td>BMW</td>\n      <td>22A0F8</td>\n      <td>GASOLINE</td>\n      <td>1968</td>\n      <td>E3 2.5 MT (150 л.с.)</td>\n      <td>4</td>\n      <td>1975</td>\n      <td>SEDAN MECHANICAL 2.5</td>\n      <td>MECHANICAL</td>\n      <td>...</td>\n      <td>NaN</td>\n      <td>REAR_DRIVE</td>\n      <td>LEFT</td>\n      <td>NaN</td>\n      <td>2.0</td>\n      <td>True</td>\n      <td>True</td>\n      <td>1989 7</td>\n      <td>850000.0</td>\n      <td>RUR</td>\n    </tr>\n    <tr>\n      <th>3</th>\n      <td>седан</td>\n      <td>BMW</td>\n      <td>007F00</td>\n      <td>GASOLINE</td>\n      <td>1977</td>\n      <td>7 серии 733i 3.2 MT (197 л.с.)</td>\n      <td>4</td>\n      <td>1981</td>\n      <td>SEDAN MECHANICAL 733i</td>\n      <td>MECHANICAL</td>\n      <td>...</td>\n      <td>NaN</td>\n      <td>REAR_DRIVE</td>\n      <td>LEFT</td>\n      <td>NaN</td>\n      <td>2.0</td>\n      <td>True</td>\n      <td>True</td>\n      <td>NaN</td>\n      <td>350000.0</td>\n      <td>RUR</td>\n    </tr>\n    <tr>\n      <th>4</th>\n      <td>седан</td>\n      <td>BMW</td>\n      <td>97948F</td>\n      <td>GASOLINE</td>\n      <td>1981</td>\n      <td>5 серии 520i 2.0 MT (125 л.с.)</td>\n      <td>4</td>\n      <td>1982</td>\n      <td>SEDAN MECHANICAL 520i</td>\n      <td>MECHANICAL</td>\n      <td>...</td>\n      <td>NaN</td>\n      <td>REAR_DRIVE</td>\n      <td>LEFT</td>\n      <td>NaN</td>\n      <td>1.0</td>\n      <td>True</td>\n      <td>True</td>\n      <td>2018 3</td>\n      <td>1890000.0</td>\n      <td>RUR</td>\n    </tr>\n  </tbody>\n</table>\n<p>5 rows × 24 columns</p>\n</div>"
     },
     "metadata": {},
     "execution_count": 20
    }
   ],
   "source": [
    "df.head()"
   ]
  },
  {
   "cell_type": "code",
   "execution_count": 21,
   "metadata": {},
   "outputs": [
    {
     "output_type": "execute_result",
     "data": {
      "text/plain": [
       "bodyType                   0\n",
       "brand                      0\n",
       "color                      0\n",
       "fuelType                   0\n",
       "modelDate                  0\n",
       "name                       0\n",
       "numberOfDoors              0\n",
       "productionDate             0\n",
       "vehicleConfiguration       0\n",
       "vehicleTransmission        0\n",
       "engineDisplacement         0\n",
       "enginePower                0\n",
       "description              123\n",
       "mileage                    0\n",
       "Комплектация            6131\n",
       "Привод                     0\n",
       "Руль                       0\n",
       "Состояние               6131\n",
       "Владельцы               1789\n",
       "ПТС                      735\n",
       "Таможня                    0\n",
       "Владение                4643\n",
       "price                     17\n",
       "currency                  17\n",
       "dtype: int64"
      ]
     },
     "metadata": {},
     "execution_count": 21
    }
   ],
   "source": []
  },
  {
   "cell_type": "code",
   "execution_count": null,
   "metadata": {},
   "outputs": [],
   "source": []
  }
 ]
}