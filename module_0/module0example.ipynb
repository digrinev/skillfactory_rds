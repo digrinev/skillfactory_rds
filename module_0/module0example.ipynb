{
 "cells": [
  {
   "cell_type": "markdown",
   "metadata": {},
   "source": [
    "# Угадай число\n",
    "### Четыре версии алгоритма угадывания числа, которое загадал компьютер.\n"
   ]
  },
  {
   "cell_type": "code",
   "execution_count": 30,
   "metadata": {},
   "outputs": [
    {
     "name": "stdout",
     "output_type": "stream",
     "text": [
      "score_game vectorized\n",
      "\n",
      "Ваш алгоритм угадывает число в среднем за 6 попыток\n",
      "Время выполнения score_game: 0.00384919999999056\n",
      "==================================================\n",
      "Ваш алгоритм угадывает число в среднем за 7 попыток\n",
      "Время выполнения score_game: 0.0167477999999619\n",
      "==================================================\n",
      "Ваш алгоритм угадывает число в среднем за 30 попыток\n",
      "Время выполнения score_game: 0.01593389999993633\n",
      "==================================================\n",
      "Ваш алгоритм угадывает число в среднем за 70 попыток\n",
      "Время выполнения score_game: 0.2231209999999919\n",
      "\n",
      "score_game\n",
      "\n",
      "Ваш алгоритм угадывает число в среднем за 5 попыток\n",
      "Время выполнения score_game: 0.0788735999999517\n",
      "==================================================\n",
      "Ваш алгоритм угадывает число в среднем за 7 попыток\n",
      "Время выполнения score_game: 0.09436440000001767\n",
      "==================================================\n",
      "Ваш алгоритм угадывает число в среднем за 32 попыток\n",
      "Время выполнения score_game: 0.10317339999994601\n",
      "==================================================\n",
      "Ваш алгоритм угадывает число в среднем за 101 попыток\n",
      "Время выполнения score_game: 0.334632000000056\n"
     ]
    }
   ],
   "source": [
    "from main import GameCore\n",
    "\n",
    "game = GameCore()\n",
    "\n",
    "# Векторезированная фунция score_game (среднее число попыток, за которое угадывает компьютер число из n = 1000 экспериментов)\n",
    "print('score_game vectorized\\n')\n",
    "game.start_game(4)\n",
    "print('='*50)\n",
    "game.start_game(3)\n",
    "print('='*50)\n",
    "game.start_game(2)\n",
    "print('='*50)\n",
    "game.start_game(1)\n",
    "\n",
    "# Оригинальная функция score_game\n",
    "print('\\nscore_game\\n')\n",
    "game.start_game(4, 1)\n",
    "print('='*50)\n",
    "game.start_game(3, 1)\n",
    "print('='*50)\n",
    "game.start_game(2, 1)\n",
    "print('='*50)\n",
    "game.start_game(1, 1)\n",
    "\n"
   ]
  },
  {
   "cell_type": "code",
   "execution_count": null,
   "metadata": {},
   "outputs": [],
   "source": []
  },
  {
   "cell_type": "code",
   "execution_count": null,
   "metadata": {},
   "outputs": [],
   "source": []
  },
  {
   "cell_type": "code",
   "execution_count": null,
   "metadata": {},
   "outputs": [],
   "source": []
  },
  {
   "cell_type": "code",
   "execution_count": null,
   "metadata": {},
   "outputs": [],
   "source": []
  },
  {
   "cell_type": "code",
   "execution_count": null,
   "metadata": {},
   "outputs": [],
   "source": []
  },
  {
   "cell_type": "code",
   "execution_count": null,
   "metadata": {},
   "outputs": [],
   "source": []
  },
  {
   "cell_type": "code",
   "execution_count": null,
   "metadata": {},
   "outputs": [],
   "source": []
  },
  {
   "cell_type": "code",
   "execution_count": null,
   "metadata": {},
   "outputs": [],
   "source": []
  }
 ],
 "metadata": {
  "kernelspec": {
   "display_name": "Python 3",
   "language": "python",
   "name": "python3"
  },
  "language_info": {
   "codemirror_mode": {
    "name": "ipython",
    "version": 3
   },
   "file_extension": ".py",
   "mimetype": "text/x-python",
   "name": "python",
   "nbconvert_exporter": "python",
   "pygments_lexer": "ipython3",
   "version": "3.7.3"
  }
 },
 "nbformat": 4,
 "nbformat_minor": 2
}
